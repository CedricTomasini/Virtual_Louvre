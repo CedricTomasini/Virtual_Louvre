{
 "cells": [
  {
   "cell_type": "markdown",
   "metadata": {},
   "source": [
    "This notebook query Wikidata to populate the data with pictures and dimensions of paintings."
   ]
  },
  {
   "cell_type": "code",
   "execution_count": 1,
   "metadata": {},
   "outputs": [
    {
     "name": "stderr",
     "output_type": "stream",
     "text": [
      "C:\\SysNumNoSpace\\Anaconda3\\lib\\site-packages\\tqdm\\autonotebook.py:17: TqdmExperimentalWarning: Using `tqdm.autonotebook.tqdm` in notebook mode. Use `tqdm.tqdm` instead to force console mode (e.g. in jupyter console)\n",
      "  \" (e.g. in jupyter console)\", TqdmExperimentalWarning)\n"
     ]
    }
   ],
   "source": [
    "from bs4 import BeautifulSoup\n",
    "import requests\n",
    "\n",
    "from tqdm.autonotebook import tqdm\n",
    "import pandas as pd\n",
    "import numpy as np\n",
    "import json\n",
    "\n",
    "from string import punctuation\n",
    "from enum import Enum\n",
    "import re\n",
    "\n",
    "from PIL import Image"
   ]
  },
  {
   "cell_type": "code",
   "execution_count": 2,
   "metadata": {},
   "outputs": [],
   "source": [
    "artworks_df = pd.read_csv(\"data/catalogue_artworks.csv\")"
   ]
  },
  {
   "cell_type": "code",
   "execution_count": 3,
   "metadata": {},
   "outputs": [],
   "source": [
    "def standardize_string(s):\n",
    "    \"\"\" \n",
    "    Put the given string into a standard form to be compatible with the querying \n",
    "  \n",
    "    Parameters: \n",
    "    s : a raw string\n",
    "    \n",
    "    return:\n",
    "    string: standardized string\n",
    "  \n",
    "    \"\"\"\n",
    "    p = punctuation.replace(\"'\",\"\")\n",
    "    \n",
    "    s = str(s)\n",
    "    s = s.lower()\n",
    "    s = s.replace(\"-\",\" \")\n",
    "    s = s.strip(\" \")\n",
    "    s = s.translate({ord(i) : None for i in p})\n",
    "    return s"
   ]
  },
  {
   "cell_type": "code",
   "execution_count": 4,
   "metadata": {},
   "outputs": [],
   "source": [
    "artworks_df.title = artworks_df.title.apply(standardize_string)\n",
    "\n",
    "artworks_df.author = artworks_df.author.apply(lambda a : standardize_string(\"\".join(a.split(\",\")[:2])).split(\" \"))"
   ]
  },
  {
   "cell_type": "markdown",
   "metadata": {},
   "source": [
    "# Query Wikidata"
   ]
  },
  {
   "cell_type": "code",
   "execution_count": 5,
   "metadata": {},
   "outputs": [
    {
     "data": {
      "application/vnd.jupyter.widget-view+json": {
       "model_id": "aad015cebb274d218b7ae4679b5db8a7",
       "version_major": 2,
       "version_minor": 0
      },
      "text/plain": [
       "HBox(children=(IntProgress(value=1, bar_style='info', max=1), HTML(value='')))"
      ]
     },
     "metadata": {},
     "output_type": "display_data"
    },
    {
     "name": "stdout",
     "output_type": "stream",
     "text": [
      "\n"
     ]
    }
   ],
   "source": [
    "#Find a given property in a wikidata page\n",
    "def find_property(soup,prop):\n",
    "    for division in soup.findAll(\"div\", {\"data-property-id\":prop}):\n",
    "        for k, value in enumerate(division.\\\n",
    "                  findAll(\"div\",{\"class\":\"wikibase-snakview-value wikibase-snakview-variation-valuesnak\"})):\n",
    "            if k == 0:\n",
    "                return value.text\n",
    "                \n",
    "def find_width(soup):\n",
    "    return find_property(soup,\"P2049\")\n",
    "\n",
    "def find_height(soup):\n",
    "    return find_property(soup,\"P2048\")\n",
    "\n",
    "#Find a joconde database ID and query the government french website\n",
    "def find_image_joconde(soup):\n",
    "    joconde_id = find_property(soup,\"P347\")\n",
    "    if joconde_id != None:\n",
    "        url = \"https://www.pop.culture.gouv.fr/notice/joconde/\"+joconde_id\n",
    "\n",
    "        soup_jocond = BeautifulSoup(requests.get(url).text,\"html.parser\")\n",
    "\n",
    "        for image in soup_jocond.findAll(\"img\"):\n",
    "            if image[\"src\"].startswith(\"http\"):\n",
    "                return image[\"src\"]\n",
    "\n",
    "def find_image(soup):\n",
    "    for image in soup.findAll(\"meta\", {\"property\":\"og:image\"}):\n",
    "        return image[\"content\"]\n",
    "    \n",
    "    #If image not in WikiData, tries to find joconde ref.\n",
    "    return find_image_joconde(soup)\n",
    "\n",
    "\n",
    "    \n",
    "for index, row in tqdm(artworks_df.iterrows()):\n",
    "    got_url = False\n",
    "    \n",
    "    url_base = \"https://www.wikidata.org/w/index.php?search=&search=\"\n",
    "    \n",
    "    url = url_base+\"+\"+row.author[0]+\"+\"+row.author[-1]+\"+\"+row.title.replace(\" \",\"+\")\n",
    "    \n",
    "    r1 = requests.get(url)\n",
    "    \n",
    "    soup_search = BeautifulSoup(r1.text, \"html.parser\")\n",
    "    \n",
    "    for i, li in enumerate(soup_search.findAll(\"li\",class_ = \"mw-search-result\")):\n",
    "        if i == 0:\n",
    "            for j, a in enumerate(li.findAll(\"a\")):\n",
    "                if j == 0:\n",
    "                    got_url = True\n",
    "                    \n",
    "                    url_painting = \"https://www.wikidata.org\" + a[\"href\"]\n",
    "                    r2 = requests.get(url_painting)\n",
    "                    \n",
    "                    \n",
    "                    soup_painting = BeautifulSoup(r2.text,\"html.parser\")\n",
    "                    \n",
    "                    artworks_df.loc[index,\"width\"] = find_width(soup_painting)\n",
    "                    \n",
    "                    artworks_df.loc[index,\"height\"] = find_height(soup_painting)\n",
    "                    \n",
    "                    artworks_df.loc[index,\"image_url\"] = find_image(soup_painting)\n",
    "                    \n",
    "\n",
    "                "
   ]
  },
  {
   "cell_type": "code",
   "execution_count": 6,
   "metadata": {},
   "outputs": [
    {
     "name": "stdout",
     "output_type": "stream",
     "text": [
      "Total number of rows : 2254\n",
      "Artwork fully retrieved : 658\n",
      "Image retrieved : 690\n",
      "Dimensions retrieved : 696\n"
     ]
    }
   ],
   "source": [
    "print(\"Total number of rows :\",len(artworks_df))\n",
    "print(\"Artwork fully retrieved :\",len(artworks_df.dropna()))\n",
    "print(\"Image retrieved :\",len(artworks_df[\"image_url\"].dropna()))\n",
    "print(\"Dimensions retrieved :\",len(artworks_df[[\"width\",\"height\"]].dropna()))"
   ]
  },
  {
   "cell_type": "code",
   "execution_count": 7,
   "metadata": {},
   "outputs": [
    {
     "data": {
      "text/html": [
       "<div>\n",
       "<style scoped>\n",
       "    .dataframe tbody tr th:only-of-type {\n",
       "        vertical-align: middle;\n",
       "    }\n",
       "\n",
       "    .dataframe tbody tr th {\n",
       "        vertical-align: top;\n",
       "    }\n",
       "\n",
       "    .dataframe thead th {\n",
       "        text-align: right;\n",
       "    }\n",
       "</style>\n",
       "<table border=\"1\" class=\"dataframe\">\n",
       "  <thead>\n",
       "    <tr style=\"text-align: right;\">\n",
       "      <th></th>\n",
       "      <th>Unnamed: 0</th>\n",
       "      <th>number</th>\n",
       "      <th>author</th>\n",
       "      <th>life</th>\n",
       "      <th>title</th>\n",
       "      <th>position</th>\n",
       "      <th>width</th>\n",
       "      <th>height</th>\n",
       "      <th>image_url</th>\n",
       "    </tr>\n",
       "  </thead>\n",
       "  <tbody>\n",
       "    <tr>\n",
       "      <th>189</th>\n",
       "      <td>204</td>\n",
       "      <td>2801</td>\n",
       "      <td>[corot, jean, baptiste, camille]</td>\n",
       "      <td>(1796-1875).</td>\n",
       "      <td>le vallon</td>\n",
       "      <td>T. T.</td>\n",
       "      <td>53.5±0.1 centimetre</td>\n",
       "      <td>35±1 centimetre</td>\n",
       "      <td>https://upload.wikimedia.org/wikipedia/commons...</td>\n",
       "    </tr>\n",
       "    <tr>\n",
       "      <th>1037</th>\n",
       "      <td>1168</td>\n",
       "      <td>796 b</td>\n",
       "      <td>[rigaud, et, sevin, de, la, pennaye, charles]</td>\n",
       "      <td>(1685- 1741).</td>\n",
       "      <td>portrait de jacques benigne bossuet évêque de ...</td>\n",
       "      <td>XIV-N</td>\n",
       "      <td>NaN</td>\n",
       "      <td>NaN</td>\n",
       "      <td>NaN</td>\n",
       "    </tr>\n",
       "    <tr>\n",
       "      <th>1232</th>\n",
       "      <td>1473</td>\n",
       "      <td>1123</td>\n",
       "      <td>[amerighi, exactement, merisi]</td>\n",
       "      <td>(vers 1560 ou 1500-1600).</td>\n",
       "      <td>concert</td>\n",
       "      <td>VI tr. D-N</td>\n",
       "      <td>NaN</td>\n",
       "      <td>NaN</td>\n",
       "      <td>NaN</td>\n",
       "    </tr>\n",
       "    <tr>\n",
       "      <th>291</th>\n",
       "      <td>310</td>\n",
       "      <td>191</td>\n",
       "      <td>[david, jacques, louis]</td>\n",
       "      <td>(1748-1825).</td>\n",
       "      <td>les licteurs rapportant à brutus les corps de ...</td>\n",
       "      <td>111-0</td>\n",
       "      <td>422 centimetre</td>\n",
       "      <td>323 centimetre</td>\n",
       "      <td>https://upload.wikimedia.org/wikipedia/commons...</td>\n",
       "    </tr>\n",
       "    <tr>\n",
       "      <th>709</th>\n",
       "      <td>776</td>\n",
       "      <td>S. N°</td>\n",
       "      <td>[la, tour, m, quentin, de]</td>\n",
       "      <td>(1704-1788).</td>\n",
       "      <td>portrait de la tour par lui même pastel ébauche</td>\n",
       "      <td>S. des pastels</td>\n",
       "      <td>NaN</td>\n",
       "      <td>NaN</td>\n",
       "      <td>NaN</td>\n",
       "    </tr>\n",
       "  </tbody>\n",
       "</table>\n",
       "</div>"
      ],
      "text/plain": [
       "      Unnamed: 0  number                                         author  \\\n",
       "189          204   2801                [corot, jean, baptiste, camille]   \n",
       "1037        1168  796 b   [rigaud, et, sevin, de, la, pennaye, charles]   \n",
       "1232        1473   1123                  [amerighi, exactement, merisi]   \n",
       "291          310    191                         [david, jacques, louis]   \n",
       "709          776  S. N°                      [la, tour, m, quentin, de]   \n",
       "\n",
       "                             life  \\\n",
       "189                 (1796-1875).    \n",
       "1037               (1685- 1741).    \n",
       "1232   (vers 1560 ou 1500-1600).    \n",
       "291                 (1748-1825).    \n",
       "709                 (1704-1788).    \n",
       "\n",
       "                                                  title        position  \\\n",
       "189                                           le vallon           T. T.   \n",
       "1037  portrait de jacques benigne bossuet évêque de ...           XIV-N   \n",
       "1232                                            concert      VI tr. D-N   \n",
       "291   les licteurs rapportant à brutus les corps de ...           111-0   \n",
       "709     portrait de la tour par lui même pastel ébauche  S. des pastels   \n",
       "\n",
       "                    width           height  \\\n",
       "189   53.5±0.1 centimetre  35±1 centimetre   \n",
       "1037                  NaN              NaN   \n",
       "1232                  NaN              NaN   \n",
       "291        422 centimetre   323 centimetre   \n",
       "709                   NaN              NaN   \n",
       "\n",
       "                                              image_url  \n",
       "189   https://upload.wikimedia.org/wikipedia/commons...  \n",
       "1037                                                NaN  \n",
       "1232                                                NaN  \n",
       "291   https://upload.wikimedia.org/wikipedia/commons...  \n",
       "709                                                 NaN  "
      ]
     },
     "execution_count": 7,
     "metadata": {},
     "output_type": "execute_result"
    }
   ],
   "source": [
    "artworks_df.sample(5)"
   ]
  },
  {
   "cell_type": "markdown",
   "metadata": {},
   "source": [
    "# Saving"
   ]
  },
  {
   "cell_type": "code",
   "execution_count": 8,
   "metadata": {},
   "outputs": [],
   "source": [
    "artworks_df.to_csv(\"data/complete_artworks.csv\")"
   ]
  }
 ],
 "metadata": {
  "kernelspec": {
   "display_name": "Python 3",
   "language": "python",
   "name": "python3"
  },
  "language_info": {
   "codemirror_mode": {
    "name": "ipython",
    "version": 3
   },
   "file_extension": ".py",
   "mimetype": "text/x-python",
   "name": "python",
   "nbconvert_exporter": "python",
   "pygments_lexer": "ipython3",
   "version": "3.7.1"
  }
 },
 "nbformat": 4,
 "nbformat_minor": 2
}
