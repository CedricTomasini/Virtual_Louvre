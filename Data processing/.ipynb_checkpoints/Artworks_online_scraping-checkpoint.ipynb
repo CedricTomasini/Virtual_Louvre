{
 "cells": [
  {
   "cell_type": "code",
   "execution_count": 1,
   "metadata": {},
   "outputs": [
    {
     "name": "stderr",
     "output_type": "stream",
     "text": [
      "C:\\SysNumNoSpace\\Anaconda3\\lib\\site-packages\\tqdm\\autonotebook.py:17: TqdmExperimentalWarning: Using `tqdm.autonotebook.tqdm` in notebook mode. Use `tqdm.tqdm` instead to force console mode (e.g. in jupyter console)\n",
      "  \" (e.g. in jupyter console)\", TqdmExperimentalWarning)\n"
     ]
    }
   ],
   "source": [
    "from bs4 import BeautifulSoup\n",
    "import requests\n",
    "\n",
    "from tqdm.autonotebook import tqdm\n",
    "import pandas as pd\n",
    "import numpy as np\n",
    "import json\n",
    "\n",
    "from string import punctuation\n",
    "from enum import Enum\n",
    "import re\n",
    "\n",
    "from PIL import Image"
   ]
  },
  {
   "cell_type": "code",
   "execution_count": 2,
   "metadata": {},
   "outputs": [],
   "source": [
    "artworks_df = pd.read_csv(\"data/catalogue_artworks.csv\")"
   ]
  },
  {
   "cell_type": "code",
   "execution_count": 3,
   "metadata": {},
   "outputs": [],
   "source": [
    "#Certains artistes ont des noms composés dans le catalogue mais pas dans les bases de données externes.\n",
    "#On va donc faire les recherches avec le premier et le second nom d'auteur uniquement.\n",
    "\n",
    "#Mais est-ce que le nom connu de l'auteur est son second ou son premier ? Est-ce que le nom de famille est suffisant\n",
    "#pour tirer des conclusions ? Il faudra faire des tests avec différents patterns.\n",
    "\n",
    "#On constate aussi que sur Wikidata, certains autheurs ne sont pas connu avec leur nom complet, comme Rembrandt.\n",
    "\n",
    "def standardize_string(s):\n",
    "    p = punctuation.replace(\"'\",\"\")\n",
    "    \n",
    "    s = str(s)\n",
    "    s = s.lower()\n",
    "    s = s.replace(\"-\",\" \")\n",
    "    s = s.strip(\" \")\n",
    "    #s = s.replace(\"l'\",\"@\") #Ne pas oublier les d' et autres si on applique cette méthode\n",
    "    s = s.translate({ord(i) : None for i in p})\n",
    "    #s = s.replace(\"@\",\"l'\")\n",
    "    return s"
   ]
  },
  {
   "cell_type": "code",
   "execution_count": 4,
   "metadata": {},
   "outputs": [],
   "source": [
    "#joconde_df = pd.read_csv(\"data/base-joconde-extrait.csv\", sep = \";\")"
   ]
  },
  {
   "cell_type": "code",
   "execution_count": 5,
   "metadata": {},
   "outputs": [],
   "source": [
    "#joconde_df.Titre = joconde_df.Titre.apply(standardize_string)\n",
    "#joconde_df.Auteur = joconde_df.Auteur.apply(standardize_string)\n",
    "\n",
    "artworks_df.title = artworks_df.title.apply(standardize_string)\n",
    "#artworks_df.author = artworks_df.author.apply(standardize_string)\n",
    "artworks_df.author = artworks_df.author.apply(lambda a : standardize_string(\"\".join(a.split(\",\")[:2])).split(\" \"))"
   ]
  },
  {
   "cell_type": "markdown",
   "metadata": {},
   "source": [
    "# Essai avec Wikidata"
   ]
  },
  {
   "cell_type": "code",
   "execution_count": 6,
   "metadata": {},
   "outputs": [
    {
     "data": {
      "application/vnd.jupyter.widget-view+json": {
       "model_id": "5802dadbfd2a4f1a88ff37b2361b5363",
       "version_major": 2,
       "version_minor": 0
      },
      "text/plain": [
       "HBox(children=(IntProgress(value=1, bar_style='info', max=1), HTML(value='')))"
      ]
     },
     "metadata": {},
     "output_type": "display_data"
    },
    {
     "name": "stdout",
     "output_type": "stream",
     "text": [
      "\n"
     ]
    }
   ],
   "source": [
    "def find_property(soup,prop):\n",
    "    for division in soup.findAll(\"div\", {\"data-property-id\":prop}):\n",
    "        for k, value in enumerate(division.\\\n",
    "                  findAll(\"div\",{\"class\":\"wikibase-snakview-value wikibase-snakview-variation-valuesnak\"})):\n",
    "            if k == 0:\n",
    "                return value.text\n",
    "                \n",
    "def find_width(soup):\n",
    "    return find_property(soup,\"P2049\")\n",
    "\n",
    "def find_height(soup):\n",
    "    return find_property(soup,\"P2048\")\n",
    "\n",
    "def find_image_joconde(soup):\n",
    "    joconde_id = find_property(soup,\"P347\")\n",
    "    if joconde_id != None:\n",
    "        url = \"https://www.pop.culture.gouv.fr/notice/joconde/\"+joconde_id\n",
    "\n",
    "        soup_jocond = BeautifulSoup(requests.get(url).text,\"html.parser\")\n",
    "\n",
    "        for image in soup_jocond.findAll(\"img\"):\n",
    "            if image[\"src\"].startswith(\"http\"):\n",
    "                return image[\"src\"]\n",
    "\n",
    "def find_image(soup):\n",
    "    for image in soup.findAll(\"meta\", {\"property\":\"og:image\"}):\n",
    "        return image[\"content\"]\n",
    "    \n",
    "    #If image not in WikiData, tries to find joconde ref.\n",
    "    return find_image_joconde(soup)\n",
    "\n",
    "\n",
    "    \n",
    "for index, row in tqdm(artworks_df.iterrows()):\n",
    "    got_url = False\n",
    "    \n",
    "    url_base = \"https://www.wikidata.org/w/index.php?search=&search=\"\n",
    "    \n",
    "    url = url_base+\"+\"+row.author[0]+\"+\"+row.author[-1]+\"+\"+row.title.replace(\" \",\"+\")\n",
    "    \n",
    "    #print(url)\n",
    "    \n",
    "    r1 = requests.get(url)\n",
    "    \n",
    "    soup_search = BeautifulSoup(r1.text, \"html.parser\")\n",
    "    \n",
    "    for i, li in enumerate(soup_search.findAll(\"li\",class_ = \"mw-search-result\")):\n",
    "        if i == 0:\n",
    "            for j, a in enumerate(li.findAll(\"a\")):\n",
    "                if j == 0:\n",
    "                    got_url = True\n",
    "                    \n",
    "                    url_painting = \"https://www.wikidata.org\" + a[\"href\"]\n",
    "                    r2 = requests.get(url_painting)\n",
    "                    \n",
    "                    #print(url_painting)\n",
    "                    soup_painting = BeautifulSoup(r2.text,\"html.parser\")\n",
    "                    \n",
    "                    artworks_df.loc[index,\"width\"] = find_width(soup_painting)\n",
    "                    \n",
    "                    artworks_df.loc[index,\"height\"] = find_height(soup_painting)\n",
    "                    \n",
    "                    artworks_df.loc[index,\"image_url\"] = find_image(soup_painting)\n",
    "                    \n",
    "\n",
    "                "
   ]
  },
  {
   "cell_type": "code",
   "execution_count": 7,
   "metadata": {},
   "outputs": [],
   "source": [
    "artworks_df.to_csv(\"temp/wikidata_artworks_apostrophe_joconde.csv\")"
   ]
  },
  {
   "cell_type": "markdown",
   "metadata": {},
   "source": [
    "Un point auquel faire attention : s'il y a plusieurs résultats, on considère actuellement le premier. On pourrait affiner la recherche en choisissant le résultat qui es encore conservé actuellement au Louvre."
   ]
  },
  {
   "cell_type": "code",
   "execution_count": 8,
   "metadata": {},
   "outputs": [
    {
     "name": "stdout",
     "output_type": "stream",
     "text": [
      "2254\n",
      "590\n",
      "620\n",
      "626\n"
     ]
    }
   ],
   "source": [
    "artworks_df = pd.read_csv(\"temp/wikidata_artworks_apostrophe_joconde.csv\")\n",
    "\n",
    "print(len(artworks_df)) # Nombre d'oeuvres initial\n",
    "print(len(artworks_df.dropna())) # Oeuvres complètement trouvées\n",
    "print(len(artworks_df[\"image_url\"].dropna())) # Image trouvée\n",
    "print(len(artworks_df[[\"width\",\"height\"]].dropna())) # Dimensions trouvées\n",
    "\n",
    "# Idée de Raphael : faire plusieurs recherches de moins en moins restrictives\n",
    "# (avec indice de confiance de plus en plus bas) pour trouver un maximum\n",
    "# d'images possibles.\n",
    "# Par exemple, séparer les titres qui contiennent un \"ou\"\n",
    "\n",
    "# Utiliser SPARQL sur wikidata pour trouver des résultats le plus pertinents possible (l'objet est un tableau,\n",
    "# l'objet a été conservé au Louvre, etc...\n",
    "\n",
    "#Query wikimedia commons plutôt que wikidata\n",
    "\n",
    "#Utiliser les images du catalogue lui-même !"
   ]
  },
  {
   "cell_type": "code",
   "execution_count": 9,
   "metadata": {},
   "outputs": [
    {
     "data": {
      "text/html": [
       "<div>\n",
       "<style scoped>\n",
       "    .dataframe tbody tr th:only-of-type {\n",
       "        vertical-align: middle;\n",
       "    }\n",
       "\n",
       "    .dataframe tbody tr th {\n",
       "        vertical-align: top;\n",
       "    }\n",
       "\n",
       "    .dataframe thead th {\n",
       "        text-align: right;\n",
       "    }\n",
       "</style>\n",
       "<table border=\"1\" class=\"dataframe\">\n",
       "  <thead>\n",
       "    <tr style=\"text-align: right;\">\n",
       "      <th></th>\n",
       "      <th>Unnamed: 0</th>\n",
       "      <th>Unnamed: 0.1</th>\n",
       "      <th>number</th>\n",
       "      <th>author</th>\n",
       "      <th>life</th>\n",
       "      <th>title</th>\n",
       "      <th>position</th>\n",
       "      <th>width</th>\n",
       "      <th>height</th>\n",
       "      <th>image_url</th>\n",
       "    </tr>\n",
       "  </thead>\n",
       "  <tbody>\n",
       "    <tr>\n",
       "      <th>1334</th>\n",
       "      <td>1334</td>\n",
       "      <td>1584</td>\n",
       "      <td>1249</td>\n",
       "      <td>['castelli', 'valerio']</td>\n",
       "      <td>(1625-1659).</td>\n",
       "      <td>le frappement du rocher</td>\n",
       "      <td>I-E</td>\n",
       "      <td>NaN</td>\n",
       "      <td>NaN</td>\n",
       "      <td>NaN</td>\n",
       "    </tr>\n",
       "    <tr>\n",
       "      <th>1241</th>\n",
       "      <td>1241</td>\n",
       "      <td>1482</td>\n",
       "      <td>S. Nu</td>\n",
       "      <td>['antoniazzo', 'romano', 'ant', 'aquili', 'dit']</td>\n",
       "      <td>(2TUE moitié du XVe siècle).</td>\n",
       "      <td>la vierge et l'enfant v</td>\n",
       "      <td>I tr. A-N</td>\n",
       "      <td>NaN</td>\n",
       "      <td>NaN</td>\n",
       "      <td>NaN</td>\n",
       "    </tr>\n",
       "    <tr>\n",
       "      <th>1262</th>\n",
       "      <td>1262</td>\n",
       "      <td>1507</td>\n",
       "      <td>S. N°</td>\n",
       "      <td>['bazzi', 'giovanni', 'antonio']</td>\n",
       "      <td>(1177-1510)-</td>\n",
       "      <td>sujet allégorique l'amour et la chasteté</td>\n",
       "      <td>Coll. Schlichting</td>\n",
       "      <td>NaN</td>\n",
       "      <td>NaN</td>\n",
       "      <td>NaN</td>\n",
       "    </tr>\n",
       "    <tr>\n",
       "      <th>491</th>\n",
       "      <td>491</td>\n",
       "      <td>540</td>\n",
       "      <td>315</td>\n",
       "      <td>['gellée', 'claude']</td>\n",
       "      <td>(1000-1082).</td>\n",
       "      <td>david sacré roi par samuel</td>\n",
       "      <td>XIV-S</td>\n",
       "      <td>150±1 Q174728</td>\n",
       "      <td>119±1 Q174728</td>\n",
       "      <td>https://upload.wikimedia.org/wikipedia/commons...</td>\n",
       "    </tr>\n",
       "    <tr>\n",
       "      <th>1550</th>\n",
       "      <td>1550</td>\n",
       "      <td>1832</td>\n",
       "      <td>1533</td>\n",
       "      <td>['solario', 'andréa']</td>\n",
       "      <td>(vers 1465- après 1515).</td>\n",
       "      <td>tête de saint jean baptiste v</td>\n",
       "      <td>I tr. B-S</td>\n",
       "      <td>NaN</td>\n",
       "      <td>NaN</td>\n",
       "      <td>NaN</td>\n",
       "    </tr>\n",
       "  </tbody>\n",
       "</table>\n",
       "</div>"
      ],
      "text/plain": [
       "      Unnamed: 0  Unnamed: 0.1  number  \\\n",
       "1334        1334          1584   1249    \n",
       "1241        1241          1482  S. Nu    \n",
       "1262        1262          1507  S. N°    \n",
       "491          491           540    315    \n",
       "1550        1550          1832   1533    \n",
       "\n",
       "                                                author  \\\n",
       "1334                           ['castelli', 'valerio']   \n",
       "1241  ['antoniazzo', 'romano', 'ant', 'aquili', 'dit']   \n",
       "1262                  ['bazzi', 'giovanni', 'antonio']   \n",
       "491                               ['gellée', 'claude']   \n",
       "1550                             ['solario', 'andréa']   \n",
       "\n",
       "                                life  \\\n",
       "1334                   (1625-1659).    \n",
       "1241   (2TUE moitié du XVe siècle).    \n",
       "1262                   (1177-1510)-    \n",
       "491                    (1000-1082).    \n",
       "1550       (vers 1465- après 1515).    \n",
       "\n",
       "                                         title           position  \\\n",
       "1334                   le frappement du rocher                I-E   \n",
       "1241                   la vierge et l'enfant v          I tr. A-N   \n",
       "1262  sujet allégorique l'amour et la chasteté  Coll. Schlichting   \n",
       "491                 david sacré roi par samuel              XIV-S   \n",
       "1550             tête de saint jean baptiste v          I tr. B-S   \n",
       "\n",
       "              width         height  \\\n",
       "1334            NaN            NaN   \n",
       "1241            NaN            NaN   \n",
       "1262            NaN            NaN   \n",
       "491   150±1 Q174728  119±1 Q174728   \n",
       "1550            NaN            NaN   \n",
       "\n",
       "                                              image_url  \n",
       "1334                                                NaN  \n",
       "1241                                                NaN  \n",
       "1262                                                NaN  \n",
       "491   https://upload.wikimedia.org/wikipedia/commons...  \n",
       "1550                                                NaN  "
      ]
     },
     "execution_count": 9,
     "metadata": {},
     "output_type": "execute_result"
    }
   ],
   "source": [
    "artworks_df.sample(5)"
   ]
  },
  {
   "cell_type": "markdown",
   "metadata": {},
   "source": [
    "# Sauvegarde finale des données"
   ]
  },
  {
   "cell_type": "code",
   "execution_count": 10,
   "metadata": {},
   "outputs": [],
   "source": [
    "artworks_df.to_csv(\"data/complete_artworks.csv\")"
   ]
  },
  {
   "cell_type": "markdown",
   "metadata": {},
   "source": [
    "# Essai avec la base de donnée Joconde (abandonné)"
   ]
  },
  {
   "cell_type": "code",
   "execution_count": 6,
   "metadata": {},
   "outputs": [
    {
     "data": {
      "text/html": [
       "<div>\n",
       "<style scoped>\n",
       "    .dataframe tbody tr th:only-of-type {\n",
       "        vertical-align: middle;\n",
       "    }\n",
       "\n",
       "    .dataframe tbody tr th {\n",
       "        vertical-align: top;\n",
       "    }\n",
       "\n",
       "    .dataframe thead th {\n",
       "        text-align: right;\n",
       "    }\n",
       "</style>\n",
       "<table border=\"1\" class=\"dataframe\">\n",
       "  <thead>\n",
       "    <tr style=\"text-align: right;\">\n",
       "      <th></th>\n",
       "      <th>Numéro de l'objet</th>\n",
       "      <th>Domaine</th>\n",
       "      <th>Dénomination</th>\n",
       "      <th>Appellation</th>\n",
       "      <th>Titre</th>\n",
       "      <th>Auteur</th>\n",
       "      <th>Précisions sur l'auteur</th>\n",
       "      <th>Lieu de création</th>\n",
       "      <th>Période de création</th>\n",
       "      <th>Millésime</th>\n",
       "      <th>...</th>\n",
       "      <th>ID-notice</th>\n",
       "      <th>Lieu de conservation</th>\n",
       "      <th>Identifiant Museofile</th>\n",
       "      <th>Date d'import</th>\n",
       "      <th>Date de mise à jour</th>\n",
       "      <th>Label Musée de France</th>\n",
       "      <th>Ecole</th>\n",
       "      <th>Dépôt</th>\n",
       "      <th>ville</th>\n",
       "      <th>geolocalisation_ville</th>\n",
       "    </tr>\n",
       "  </thead>\n",
       "  <tbody>\n",
       "    <tr>\n",
       "      <th>0</th>\n",
       "      <td>97.1.68.(2)</td>\n",
       "      <td>dessin</td>\n",
       "      <td>NaN</td>\n",
       "      <td>NaN</td>\n",
       "      <td>paysan assis de profil</td>\n",
       "      <td>colin paul emile</td>\n",
       "      <td>Lunéville, 1867 ; Bourg-la-Reine, 1949</td>\n",
       "      <td>NaN</td>\n",
       "      <td>1er quart 20e siècle</td>\n",
       "      <td>1902</td>\n",
       "      <td>...</td>\n",
       "      <td>05120002612</td>\n",
       "      <td>Nancy;musée des Beaux-Arts</td>\n",
       "      <td>M0512</td>\n",
       "      <td>2003-05-14</td>\n",
       "      <td>NaN</td>\n",
       "      <td>Musée de France#au sens de la loi n°2002-5 du ...</td>\n",
       "      <td>France</td>\n",
       "      <td>NaN</td>\n",
       "      <td>Nancy</td>\n",
       "      <td>48.692365,6.182711</td>\n",
       "    </tr>\n",
       "    <tr>\n",
       "      <th>1</th>\n",
       "      <td>97.1.116</td>\n",
       "      <td>estampe</td>\n",
       "      <td>NaN</td>\n",
       "      <td>NaN</td>\n",
       "      <td>femme lavant son linge</td>\n",
       "      <td>colin paul emile</td>\n",
       "      <td>Lunéville, 1867 ; Bourg-la-Reine, 1949</td>\n",
       "      <td>NaN</td>\n",
       "      <td>1er quart 20e siècle</td>\n",
       "      <td>1908</td>\n",
       "      <td>...</td>\n",
       "      <td>05120002553</td>\n",
       "      <td>Nancy;musée des Beaux-Arts</td>\n",
       "      <td>M0512</td>\n",
       "      <td>2003-05-14</td>\n",
       "      <td>NaN</td>\n",
       "      <td>Musée de France#au sens de la loi n°2002-5 du ...</td>\n",
       "      <td>France</td>\n",
       "      <td>NaN</td>\n",
       "      <td>Nancy</td>\n",
       "      <td>48.692365,6.182711</td>\n",
       "    </tr>\n",
       "    <tr>\n",
       "      <th>2</th>\n",
       "      <td>68.5.2</td>\n",
       "      <td>beaux-arts;dessin</td>\n",
       "      <td>NaN</td>\n",
       "      <td>NaN</td>\n",
       "      <td>environs de pau château de bizanos</td>\n",
       "      <td>galos victor</td>\n",
       "      <td>GALOS : Pau, 1828 ; Pau, 1879</td>\n",
       "      <td>NaN</td>\n",
       "      <td>3e quart 19e siècle</td>\n",
       "      <td>1861</td>\n",
       "      <td>...</td>\n",
       "      <td>00980000134</td>\n",
       "      <td>Pau;musée des beaux-arts</td>\n",
       "      <td>M0098</td>\n",
       "      <td>2003-05-21</td>\n",
       "      <td>2014-10-22</td>\n",
       "      <td>Musée de France#au sens de la loi n°2002-5 du ...</td>\n",
       "      <td>France</td>\n",
       "      <td>NaN</td>\n",
       "      <td>Pau</td>\n",
       "      <td>43.300199,-0.37085</td>\n",
       "    </tr>\n",
       "    <tr>\n",
       "      <th>3</th>\n",
       "      <td>Inv 20195</td>\n",
       "      <td>peinture</td>\n",
       "      <td>tableau;fragment</td>\n",
       "      <td>NaN</td>\n",
       "      <td>saint abbe bernard ou bruno</td>\n",
       "      <td>maitre de lassomption de la madeleine</td>\n",
       "      <td>NaN</td>\n",
       "      <td>NaN</td>\n",
       "      <td>1er quart 16e siècle</td>\n",
       "      <td>NaN</td>\n",
       "      <td>...</td>\n",
       "      <td>000PE012731</td>\n",
       "      <td>Avignon;musée du Petit Palais</td>\n",
       "      <td>M0947</td>\n",
       "      <td>NaN</td>\n",
       "      <td>2005-01-31</td>\n",
       "      <td>Musée de France#au sens de la loi n°2002-5 du ...</td>\n",
       "      <td>Italie ; Ferrare</td>\n",
       "      <td>en dépôt ; Avignon ; musée du Petit Palais</td>\n",
       "      <td>Avignon</td>\n",
       "      <td>43.947855,4.807592</td>\n",
       "    </tr>\n",
       "    <tr>\n",
       "      <th>4</th>\n",
       "      <td>00.100.2</td>\n",
       "      <td>peinture</td>\n",
       "      <td>tableau</td>\n",
       "      <td>NaN</td>\n",
       "      <td>a capri</td>\n",
       "      <td>carmelina</td>\n",
       "      <td>NaN</td>\n",
       "      <td>NaN</td>\n",
       "      <td>20e siècle</td>\n",
       "      <td>NaN</td>\n",
       "      <td>...</td>\n",
       "      <td>07660016338</td>\n",
       "      <td>Laval;musée du Vieux Château</td>\n",
       "      <td>M0766</td>\n",
       "      <td>2003-05-26</td>\n",
       "      <td>2003-06-02</td>\n",
       "      <td>Musée de France#au sens de la loi n°2002-5 du ...</td>\n",
       "      <td>NaN</td>\n",
       "      <td>NaN</td>\n",
       "      <td>Laval</td>\n",
       "      <td>48.072653,-0.770364</td>\n",
       "    </tr>\n",
       "  </tbody>\n",
       "</table>\n",
       "<p>5 rows × 36 columns</p>\n",
       "</div>"
      ],
      "text/plain": [
       "  Numéro de l'objet            Domaine      Dénomination Appellation  \\\n",
       "0       97.1.68.(2)             dessin               NaN         NaN   \n",
       "1          97.1.116            estampe               NaN         NaN   \n",
       "2            68.5.2  beaux-arts;dessin               NaN         NaN   \n",
       "3         Inv 20195           peinture  tableau;fragment         NaN   \n",
       "4          00.100.2           peinture           tableau         NaN   \n",
       "\n",
       "                                Titre                                 Auteur  \\\n",
       "0              paysan assis de profil                       colin paul emile   \n",
       "1              femme lavant son linge                       colin paul emile   \n",
       "2  environs de pau château de bizanos                           galos victor   \n",
       "3        saint abbe bernard ou bruno   maitre de lassomption de la madeleine   \n",
       "4                             a capri                              carmelina   \n",
       "\n",
       "                  Précisions sur l'auteur Lieu de création  \\\n",
       "0  Lunéville, 1867 ; Bourg-la-Reine, 1949              NaN   \n",
       "1  Lunéville, 1867 ; Bourg-la-Reine, 1949              NaN   \n",
       "2           GALOS : Pau, 1828 ; Pau, 1879              NaN   \n",
       "3                                     NaN              NaN   \n",
       "4                                     NaN              NaN   \n",
       "\n",
       "    Période de création Millésime  ...    ID-notice  \\\n",
       "0  1er quart 20e siècle      1902  ...  05120002612   \n",
       "1  1er quart 20e siècle      1908  ...  05120002553   \n",
       "2   3e quart 19e siècle      1861  ...  00980000134   \n",
       "3  1er quart 16e siècle       NaN  ...  000PE012731   \n",
       "4            20e siècle       NaN  ...  07660016338   \n",
       "\n",
       "            Lieu de conservation Identifiant Museofile Date d'import  \\\n",
       "0     Nancy;musée des Beaux-Arts                 M0512    2003-05-14   \n",
       "1     Nancy;musée des Beaux-Arts                 M0512    2003-05-14   \n",
       "2       Pau;musée des beaux-arts                 M0098    2003-05-21   \n",
       "3  Avignon;musée du Petit Palais                 M0947           NaN   \n",
       "4   Laval;musée du Vieux Château                 M0766    2003-05-26   \n",
       "\n",
       "  Date de mise à jour                              Label Musée de France  \\\n",
       "0                 NaN  Musée de France#au sens de la loi n°2002-5 du ...   \n",
       "1                 NaN  Musée de France#au sens de la loi n°2002-5 du ...   \n",
       "2          2014-10-22  Musée de France#au sens de la loi n°2002-5 du ...   \n",
       "3          2005-01-31  Musée de France#au sens de la loi n°2002-5 du ...   \n",
       "4          2003-06-02  Musée de France#au sens de la loi n°2002-5 du ...   \n",
       "\n",
       "              Ecole                                       Dépôt    ville  \\\n",
       "0            France                                         NaN    Nancy   \n",
       "1            France                                         NaN    Nancy   \n",
       "2            France                                         NaN      Pau   \n",
       "3  Italie ; Ferrare  en dépôt ; Avignon ; musée du Petit Palais  Avignon   \n",
       "4               NaN                                         NaN    Laval   \n",
       "\n",
       "  geolocalisation_ville  \n",
       "0    48.692365,6.182711  \n",
       "1    48.692365,6.182711  \n",
       "2    43.300199,-0.37085  \n",
       "3    43.947855,4.807592  \n",
       "4   48.072653,-0.770364  \n",
       "\n",
       "[5 rows x 36 columns]"
      ]
     },
     "execution_count": 6,
     "metadata": {},
     "output_type": "execute_result"
    }
   ],
   "source": [
    "joconde_df.head()"
   ]
  },
  {
   "cell_type": "code",
   "execution_count": 7,
   "metadata": {},
   "outputs": [
    {
     "data": {
      "text/html": [
       "<div>\n",
       "<style scoped>\n",
       "    .dataframe tbody tr th:only-of-type {\n",
       "        vertical-align: middle;\n",
       "    }\n",
       "\n",
       "    .dataframe tbody tr th {\n",
       "        vertical-align: top;\n",
       "    }\n",
       "\n",
       "    .dataframe thead th {\n",
       "        text-align: right;\n",
       "    }\n",
       "</style>\n",
       "<table border=\"1\" class=\"dataframe\">\n",
       "  <thead>\n",
       "    <tr style=\"text-align: right;\">\n",
       "      <th></th>\n",
       "      <th>Unnamed: 0</th>\n",
       "      <th>number</th>\n",
       "      <th>author</th>\n",
       "      <th>life</th>\n",
       "      <th>title</th>\n",
       "      <th>position</th>\n",
       "    </tr>\n",
       "  </thead>\n",
       "  <tbody>\n",
       "    <tr>\n",
       "      <th>0</th>\n",
       "      <td>0</td>\n",
       "      <td>*</td>\n",
       "      <td>[alaux, jean]</td>\n",
       "      <td>(1786-1864').</td>\n",
       "      <td>poussin arrivant de rome est présenté par rich...</td>\n",
       "      <td>Ire S. de la Céramique antique</td>\n",
       "    </tr>\n",
       "    <tr>\n",
       "      <th>1</th>\n",
       "      <td>1</td>\n",
       "      <td>*</td>\n",
       "      <td>[alaux, jean]</td>\n",
       "      <td>(1786-1864').</td>\n",
       "      <td>douze médaillons dor représentant les travaux ...</td>\n",
       "      <td>Ire S. de la Céramique antique</td>\n",
       "    </tr>\n",
       "    <tr>\n",
       "      <th>2</th>\n",
       "      <td>2</td>\n",
       "      <td>2</td>\n",
       "      <td>[aligny, claude, françois, théodore, caruelle, d]</td>\n",
       "      <td>(r 798- 1871).</td>\n",
       "      <td>une villa itajienne</td>\n",
       "      <td>VIII-E</td>\n",
       "    </tr>\n",
       "    <tr>\n",
       "      <th>3</th>\n",
       "      <td>3</td>\n",
       "      <td>S. N°</td>\n",
       "      <td>[amaury, duval]</td>\n",
       "      <td>(1808-1885).</td>\n",
       "      <td>portrait de mille x</td>\n",
       "      <td>Palier esc.T.T.</td>\n",
       "    </tr>\n",
       "    <tr>\n",
       "      <th>4</th>\n",
       "      <td>4</td>\n",
       "      <td>9</td>\n",
       "      <td>[aved, andré, joseph]</td>\n",
       "      <td>(1702-1766).</td>\n",
       "      <td>portrait du marquis de mirabeau</td>\n",
       "      <td>XVI-S</td>\n",
       "    </tr>\n",
       "    <tr>\n",
       "      <th>5</th>\n",
       "      <td>5</td>\n",
       "      <td>*</td>\n",
       "      <td>[balze, paul, jean, etienne]</td>\n",
       "      <td>(1815-1884)</td>\n",
       "      <td>et balze raymond joseph antoine  1818 1909 hom...</td>\n",
       "      <td>Musée Charles X Salle IX Baptiste, J.-B. Monno...</td>\n",
       "    </tr>\n",
       "    <tr>\n",
       "      <th>6</th>\n",
       "      <td>6</td>\n",
       "      <td>2800</td>\n",
       "      <td>[barye, antoine, louis]</td>\n",
       "      <td>(1795-1875).</td>\n",
       "      <td>lions près de leur antre</td>\n",
       "      <td>T. T.</td>\n",
       "    </tr>\n",
       "    <tr>\n",
       "      <th>7</th>\n",
       "      <td>7</td>\n",
       "      <td>(209)</td>\n",
       "      <td>[barye, antoine, louis]</td>\n",
       "      <td>(1795-1875).</td>\n",
       "      <td>tigre cherchant une proie aquarelle</td>\n",
       "      <td>Coll. Camondo</td>\n",
       "    </tr>\n",
       "    <tr>\n",
       "      <th>8</th>\n",
       "      <td>8</td>\n",
       "      <td>S. N\"</td>\n",
       "      <td>[barye, antoine, louis]</td>\n",
       "      <td>(1795-1875).</td>\n",
       "      <td>portrait dune fille de lartiste</td>\n",
       "      <td>S. Barye</td>\n",
       "    </tr>\n",
       "    <tr>\n",
       "      <th>9</th>\n",
       "      <td>9</td>\n",
       "      <td>S. N\"</td>\n",
       "      <td>[barye, antoine, louis]</td>\n",
       "      <td>(1795-1875).</td>\n",
       "      <td>le jean de paris forêt de fontainebleau</td>\n",
       "      <td>S. Barye</td>\n",
       "    </tr>\n",
       "  </tbody>\n",
       "</table>\n",
       "</div>"
      ],
      "text/plain": [
       "   Unnamed: 0  number                                             author  \\\n",
       "0           0      *                                       [alaux, jean]   \n",
       "1           1      *                                       [alaux, jean]   \n",
       "2           2      2   [aligny, claude, françois, théodore, caruelle, d]   \n",
       "3           3  S. N°                                     [amaury, duval]   \n",
       "4           4      9                               [aved, andré, joseph]   \n",
       "5           5      *                        [balze, paul, jean, etienne]   \n",
       "6           6   2800                             [barye, antoine, louis]   \n",
       "7           7  (209)                             [barye, antoine, louis]   \n",
       "8           8  S. N\"                             [barye, antoine, louis]   \n",
       "9           9  S. N\"                             [barye, antoine, louis]   \n",
       "\n",
       "               life                                              title  \\\n",
       "0    (1786-1864').   poussin arrivant de rome est présenté par rich...   \n",
       "1    (1786-1864').   douze médaillons dor représentant les travaux ...   \n",
       "2   (r 798- 1871).                                 une villa itajienne   \n",
       "3     (1808-1885).                                 portrait de mille x   \n",
       "4     (1702-1766).                     portrait du marquis de mirabeau   \n",
       "5      (1815-1884)   et balze raymond joseph antoine  1818 1909 hom...   \n",
       "6     (1795-1875).                            lions près de leur antre   \n",
       "7     (1795-1875).                 tigre cherchant une proie aquarelle   \n",
       "8     (1795-1875).                     portrait dune fille de lartiste   \n",
       "9     (1795-1875).             le jean de paris forêt de fontainebleau   \n",
       "\n",
       "                                            position  \n",
       "0                     Ire S. de la Céramique antique  \n",
       "1                     Ire S. de la Céramique antique  \n",
       "2                                             VIII-E  \n",
       "3                                    Palier esc.T.T.  \n",
       "4                                              XVI-S  \n",
       "5  Musée Charles X Salle IX Baptiste, J.-B. Monno...  \n",
       "6                                              T. T.  \n",
       "7                                      Coll. Camondo  \n",
       "8                                           S. Barye  \n",
       "9                                           S. Barye  "
      ]
     },
     "execution_count": 7,
     "metadata": {},
     "output_type": "execute_result"
    }
   ],
   "source": [
    "artworks_df.head(10)"
   ]
  },
  {
   "cell_type": "code",
   "execution_count": 10,
   "metadata": {},
   "outputs": [
    {
     "data": {
      "application/vnd.jupyter.widget-view+json": {
       "model_id": "72db44f479854e0ba552998194b9a029",
       "version_major": 2,
       "version_minor": 0
      },
      "text/plain": [
       "HBox(children=(IntProgress(value=1, bar_style='info', max=1), HTML(value='')))"
      ]
     },
     "metadata": {},
     "output_type": "display_data"
    },
    {
     "name": "stdout",
     "output_type": "stream",
     "text": [
      "Empty DataFrame\n",
      "Columns: [Numéro de l'objet, Domaine, Dénomination, Appellation, Titre, Auteur, Précisions sur l'auteur, Lieu de création, Période de création, Millésime, Période de l'original copié, Epoque, Utilisation, Période d'utilisation, Millésime d'utilisation, Dimensions, Matériaux-techniques, Géographie historique, Découverte, Sujet, Source de la représentation, Onomastique, Statut juridique, Date d'acquisition, Date de dépôt, Ancien dépôt, ID-notice, Lieu de conservation, Identifiant Museofile, Date d'import, Date de mise à jour, Label Musée de France, Ecole, Dépôt, ville, geolocalisation_ville]\n",
      "Index: []\n",
      "\n",
      "[0 rows x 36 columns]\n",
      "                   Numéro de l'objet   Domaine Dénomination Appellation  \\\n",
      "426974  INV 493 ; F 2869 C ; LP 5861  peinture      tableau         NaN   \n",
      "\n",
      "          Titre                    Auteur       Précisions sur l'auteur  \\\n",
      "426974  hercule  alaux jean le romain dit  Bordeaux, 1786 ; Paris, 1864   \n",
      "\n",
      "                        Lieu de création  Période de création Millésime  ...  \\\n",
      "426974  Fontainebleau (lieu de création)  2e quart 19e siècle      1844  ...   \n",
      "\n",
      "          ID-notice                               Lieu de conservation  \\\n",
      "426974  50130000660  Fontainebleau;musée national du château de Fon...   \n",
      "\n",
      "       Identifiant Museofile Date d'import Date de mise à jour  \\\n",
      "426974                 M5013    2002-11-26                 NaN   \n",
      "\n",
      "                                    Label Musée de France   Ecole  \\\n",
      "426974  Musée de France#au sens de la loi n°2002-5 du ...  France   \n",
      "\n",
      "                                                    Dépôt          ville  \\\n",
      "426974  dépôt ; Fontainebleau ; musée national du château  Fontainebleau   \n",
      "\n",
      "       geolocalisation_ville  \n",
      "426974    48.408814,2.701368  \n",
      "\n",
      "[1 rows x 36 columns]\n",
      "Empty DataFrame\n",
      "Columns: [Numéro de l'objet, Domaine, Dénomination, Appellation, Titre, Auteur, Précisions sur l'auteur, Lieu de création, Période de création, Millésime, Période de l'original copié, Epoque, Utilisation, Période d'utilisation, Millésime d'utilisation, Dimensions, Matériaux-techniques, Géographie historique, Découverte, Sujet, Source de la représentation, Onomastique, Statut juridique, Date d'acquisition, Date de dépôt, Ancien dépôt, ID-notice, Lieu de conservation, Identifiant Museofile, Date d'import, Date de mise à jour, Label Musée de France, Ecole, Dépôt, ville, geolocalisation_ville]\n",
      "Index: []\n",
      "\n",
      "[0 rows x 36 columns]\n"
     ]
    },
    {
     "ename": "KeyboardInterrupt",
     "evalue": "",
     "output_type": "error",
     "traceback": [
      "\u001b[1;31m---------------------------------------------------------------------------\u001b[0m",
      "\u001b[1;31mKeyboardInterrupt\u001b[0m                         Traceback (most recent call last)",
      "\u001b[1;32m<ipython-input-10-2e370d6d90e8>\u001b[0m in \u001b[0;36m<module>\u001b[1;34m\u001b[0m\n\u001b[0;32m      4\u001b[0m     \u001b[1;31m#title = standardize_string(row[1].title)\u001b[0m\u001b[1;33m\u001b[0m\u001b[1;33m\u001b[0m\u001b[1;33m\u001b[0m\u001b[0m\n\u001b[0;32m      5\u001b[0m \u001b[1;33m\u001b[0m\u001b[0m\n\u001b[1;32m----> 6\u001b[1;33m     \u001b[0mcond\u001b[0m \u001b[1;33m=\u001b[0m \u001b[1;33m(\u001b[0m\u001b[0mjoconde_df\u001b[0m\u001b[1;33m.\u001b[0m\u001b[0mAuteur\u001b[0m\u001b[1;33m.\u001b[0m\u001b[0mstr\u001b[0m\u001b[1;33m.\u001b[0m\u001b[0mcontains\u001b[0m\u001b[1;33m(\u001b[0m\u001b[0mrow\u001b[0m\u001b[1;33m[\u001b[0m\u001b[1;36m1\u001b[0m\u001b[1;33m]\u001b[0m\u001b[1;33m.\u001b[0m\u001b[0mauthor\u001b[0m\u001b[1;33m[\u001b[0m\u001b[1;36m0\u001b[0m\u001b[1;33m]\u001b[0m\u001b[1;33m)\u001b[0m\u001b[1;33m)\u001b[0m \u001b[1;33m&\u001b[0m \u001b[1;33m(\u001b[0m\u001b[0mjoconde_df\u001b[0m\u001b[1;33m.\u001b[0m\u001b[0mTitre\u001b[0m\u001b[1;33m.\u001b[0m\u001b[0mapply\u001b[0m\u001b[1;33m(\u001b[0m\u001b[1;32mlambda\u001b[0m \u001b[0mtext\u001b[0m \u001b[1;33m:\u001b[0m \u001b[0mtext\u001b[0m \u001b[1;32min\u001b[0m \u001b[0mrow\u001b[0m\u001b[1;33m[\u001b[0m\u001b[1;36m1\u001b[0m\u001b[1;33m]\u001b[0m\u001b[1;33m.\u001b[0m\u001b[0mtitle\u001b[0m\u001b[1;33m)\u001b[0m\u001b[1;33m)\u001b[0m\u001b[1;33m\u001b[0m\u001b[1;33m\u001b[0m\u001b[0m\n\u001b[0m\u001b[0;32m      7\u001b[0m \u001b[1;33m\u001b[0m\u001b[0m\n\u001b[0;32m      8\u001b[0m     \u001b[0mprint\u001b[0m\u001b[1;33m(\u001b[0m\u001b[0mjoconde_df\u001b[0m\u001b[1;33m[\u001b[0m\u001b[0mcond\u001b[0m\u001b[1;33m]\u001b[0m\u001b[1;33m)\u001b[0m\u001b[1;33m\u001b[0m\u001b[1;33m\u001b[0m\u001b[0m\n",
      "\u001b[1;32mC:\\SysNumNoSpace\\Anaconda3\\lib\\site-packages\\pandas\\core\\series.py\u001b[0m in \u001b[0;36mapply\u001b[1;34m(self, func, convert_dtype, args, **kwds)\u001b[0m\n\u001b[0;32m   4043\u001b[0m             \u001b[1;32melse\u001b[0m\u001b[1;33m:\u001b[0m\u001b[1;33m\u001b[0m\u001b[1;33m\u001b[0m\u001b[0m\n\u001b[0;32m   4044\u001b[0m                 \u001b[0mvalues\u001b[0m \u001b[1;33m=\u001b[0m \u001b[0mself\u001b[0m\u001b[1;33m.\u001b[0m\u001b[0mastype\u001b[0m\u001b[1;33m(\u001b[0m\u001b[0mobject\u001b[0m\u001b[1;33m)\u001b[0m\u001b[1;33m.\u001b[0m\u001b[0mvalues\u001b[0m\u001b[1;33m\u001b[0m\u001b[1;33m\u001b[0m\u001b[0m\n\u001b[1;32m-> 4045\u001b[1;33m                 \u001b[0mmapped\u001b[0m \u001b[1;33m=\u001b[0m \u001b[0mlib\u001b[0m\u001b[1;33m.\u001b[0m\u001b[0mmap_infer\u001b[0m\u001b[1;33m(\u001b[0m\u001b[0mvalues\u001b[0m\u001b[1;33m,\u001b[0m \u001b[0mf\u001b[0m\u001b[1;33m,\u001b[0m \u001b[0mconvert\u001b[0m\u001b[1;33m=\u001b[0m\u001b[0mconvert_dtype\u001b[0m\u001b[1;33m)\u001b[0m\u001b[1;33m\u001b[0m\u001b[1;33m\u001b[0m\u001b[0m\n\u001b[0m\u001b[0;32m   4046\u001b[0m \u001b[1;33m\u001b[0m\u001b[0m\n\u001b[0;32m   4047\u001b[0m         \u001b[1;32mif\u001b[0m \u001b[0mlen\u001b[0m\u001b[1;33m(\u001b[0m\u001b[0mmapped\u001b[0m\u001b[1;33m)\u001b[0m \u001b[1;32mand\u001b[0m \u001b[0misinstance\u001b[0m\u001b[1;33m(\u001b[0m\u001b[0mmapped\u001b[0m\u001b[1;33m[\u001b[0m\u001b[1;36m0\u001b[0m\u001b[1;33m]\u001b[0m\u001b[1;33m,\u001b[0m \u001b[0mSeries\u001b[0m\u001b[1;33m)\u001b[0m\u001b[1;33m:\u001b[0m\u001b[1;33m\u001b[0m\u001b[1;33m\u001b[0m\u001b[0m\n",
      "\u001b[1;32mpandas\\_libs\\lib.pyx\u001b[0m in \u001b[0;36mpandas._libs.lib.map_infer\u001b[1;34m()\u001b[0m\n",
      "\u001b[1;32m<ipython-input-10-2e370d6d90e8>\u001b[0m in \u001b[0;36m<lambda>\u001b[1;34m(text)\u001b[0m\n\u001b[0;32m      4\u001b[0m     \u001b[1;31m#title = standardize_string(row[1].title)\u001b[0m\u001b[1;33m\u001b[0m\u001b[1;33m\u001b[0m\u001b[1;33m\u001b[0m\u001b[0m\n\u001b[0;32m      5\u001b[0m \u001b[1;33m\u001b[0m\u001b[0m\n\u001b[1;32m----> 6\u001b[1;33m     \u001b[0mcond\u001b[0m \u001b[1;33m=\u001b[0m \u001b[1;33m(\u001b[0m\u001b[0mjoconde_df\u001b[0m\u001b[1;33m.\u001b[0m\u001b[0mAuteur\u001b[0m\u001b[1;33m.\u001b[0m\u001b[0mstr\u001b[0m\u001b[1;33m.\u001b[0m\u001b[0mcontains\u001b[0m\u001b[1;33m(\u001b[0m\u001b[0mrow\u001b[0m\u001b[1;33m[\u001b[0m\u001b[1;36m1\u001b[0m\u001b[1;33m]\u001b[0m\u001b[1;33m.\u001b[0m\u001b[0mauthor\u001b[0m\u001b[1;33m[\u001b[0m\u001b[1;36m0\u001b[0m\u001b[1;33m]\u001b[0m\u001b[1;33m)\u001b[0m\u001b[1;33m)\u001b[0m \u001b[1;33m&\u001b[0m \u001b[1;33m(\u001b[0m\u001b[0mjoconde_df\u001b[0m\u001b[1;33m.\u001b[0m\u001b[0mTitre\u001b[0m\u001b[1;33m.\u001b[0m\u001b[0mapply\u001b[0m\u001b[1;33m(\u001b[0m\u001b[1;32mlambda\u001b[0m \u001b[0mtext\u001b[0m \u001b[1;33m:\u001b[0m \u001b[0mtext\u001b[0m \u001b[1;32min\u001b[0m \u001b[0mrow\u001b[0m\u001b[1;33m[\u001b[0m\u001b[1;36m1\u001b[0m\u001b[1;33m]\u001b[0m\u001b[1;33m.\u001b[0m\u001b[0mtitle\u001b[0m\u001b[1;33m)\u001b[0m\u001b[1;33m)\u001b[0m\u001b[1;33m\u001b[0m\u001b[1;33m\u001b[0m\u001b[0m\n\u001b[0m\u001b[0;32m      7\u001b[0m \u001b[1;33m\u001b[0m\u001b[0m\n\u001b[0;32m      8\u001b[0m     \u001b[0mprint\u001b[0m\u001b[1;33m(\u001b[0m\u001b[0mjoconde_df\u001b[0m\u001b[1;33m[\u001b[0m\u001b[0mcond\u001b[0m\u001b[1;33m]\u001b[0m\u001b[1;33m)\u001b[0m\u001b[1;33m\u001b[0m\u001b[1;33m\u001b[0m\u001b[0m\n",
      "\u001b[1;32mC:\\SysNumNoSpace\\Anaconda3\\lib\\site-packages\\pandas\\core\\generic.py\u001b[0m in \u001b[0;36m__getattr__\u001b[1;34m(self, name)\u001b[0m\n\u001b[0;32m   5176\u001b[0m         \u001b[1;32melse\u001b[0m\u001b[1;33m:\u001b[0m\u001b[1;33m\u001b[0m\u001b[1;33m\u001b[0m\u001b[0m\n\u001b[0;32m   5177\u001b[0m             \u001b[1;32mif\u001b[0m \u001b[0mself\u001b[0m\u001b[1;33m.\u001b[0m\u001b[0m_info_axis\u001b[0m\u001b[1;33m.\u001b[0m\u001b[0m_can_hold_identifiers_and_holds_name\u001b[0m\u001b[1;33m(\u001b[0m\u001b[0mname\u001b[0m\u001b[1;33m)\u001b[0m\u001b[1;33m:\u001b[0m\u001b[1;33m\u001b[0m\u001b[1;33m\u001b[0m\u001b[0m\n\u001b[1;32m-> 5178\u001b[1;33m                 \u001b[1;32mreturn\u001b[0m \u001b[0mself\u001b[0m\u001b[1;33m[\u001b[0m\u001b[0mname\u001b[0m\u001b[1;33m]\u001b[0m\u001b[1;33m\u001b[0m\u001b[1;33m\u001b[0m\u001b[0m\n\u001b[0m\u001b[0;32m   5179\u001b[0m             \u001b[1;32mreturn\u001b[0m \u001b[0mobject\u001b[0m\u001b[1;33m.\u001b[0m\u001b[0m__getattribute__\u001b[0m\u001b[1;33m(\u001b[0m\u001b[0mself\u001b[0m\u001b[1;33m,\u001b[0m \u001b[0mname\u001b[0m\u001b[1;33m)\u001b[0m\u001b[1;33m\u001b[0m\u001b[1;33m\u001b[0m\u001b[0m\n\u001b[0;32m   5180\u001b[0m \u001b[1;33m\u001b[0m\u001b[0m\n",
      "\u001b[1;32mC:\\SysNumNoSpace\\Anaconda3\\lib\\site-packages\\pandas\\core\\series.py\u001b[0m in \u001b[0;36m__getitem__\u001b[1;34m(self, key)\u001b[0m\n\u001b[0;32m   1069\u001b[0m         \u001b[0mkey\u001b[0m \u001b[1;33m=\u001b[0m \u001b[0mcom\u001b[0m\u001b[1;33m.\u001b[0m\u001b[0mapply_if_callable\u001b[0m\u001b[1;33m(\u001b[0m\u001b[0mkey\u001b[0m\u001b[1;33m,\u001b[0m \u001b[0mself\u001b[0m\u001b[1;33m)\u001b[0m\u001b[1;33m\u001b[0m\u001b[1;33m\u001b[0m\u001b[0m\n\u001b[0;32m   1070\u001b[0m         \u001b[1;32mtry\u001b[0m\u001b[1;33m:\u001b[0m\u001b[1;33m\u001b[0m\u001b[1;33m\u001b[0m\u001b[0m\n\u001b[1;32m-> 1071\u001b[1;33m             \u001b[0mresult\u001b[0m \u001b[1;33m=\u001b[0m \u001b[0mself\u001b[0m\u001b[1;33m.\u001b[0m\u001b[0mindex\u001b[0m\u001b[1;33m.\u001b[0m\u001b[0mget_value\u001b[0m\u001b[1;33m(\u001b[0m\u001b[0mself\u001b[0m\u001b[1;33m,\u001b[0m \u001b[0mkey\u001b[0m\u001b[1;33m)\u001b[0m\u001b[1;33m\u001b[0m\u001b[1;33m\u001b[0m\u001b[0m\n\u001b[0m\u001b[0;32m   1072\u001b[0m \u001b[1;33m\u001b[0m\u001b[0m\n\u001b[0;32m   1073\u001b[0m             \u001b[1;32mif\u001b[0m \u001b[1;32mnot\u001b[0m \u001b[0mis_scalar\u001b[0m\u001b[1;33m(\u001b[0m\u001b[0mresult\u001b[0m\u001b[1;33m)\u001b[0m\u001b[1;33m:\u001b[0m\u001b[1;33m\u001b[0m\u001b[1;33m\u001b[0m\u001b[0m\n",
      "\u001b[1;32mC:\\SysNumNoSpace\\Anaconda3\\lib\\site-packages\\pandas\\core\\indexes\\base.py\u001b[0m in \u001b[0;36mget_value\u001b[1;34m(self, series, key)\u001b[0m\n\u001b[0;32m   4726\u001b[0m         \u001b[0mk\u001b[0m \u001b[1;33m=\u001b[0m \u001b[0mcom\u001b[0m\u001b[1;33m.\u001b[0m\u001b[0mvalues_from_object\u001b[0m\u001b[1;33m(\u001b[0m\u001b[0mkey\u001b[0m\u001b[1;33m)\u001b[0m\u001b[1;33m\u001b[0m\u001b[1;33m\u001b[0m\u001b[0m\n\u001b[0;32m   4727\u001b[0m \u001b[1;33m\u001b[0m\u001b[0m\n\u001b[1;32m-> 4728\u001b[1;33m         \u001b[0mk\u001b[0m \u001b[1;33m=\u001b[0m \u001b[0mself\u001b[0m\u001b[1;33m.\u001b[0m\u001b[0m_convert_scalar_indexer\u001b[0m\u001b[1;33m(\u001b[0m\u001b[0mk\u001b[0m\u001b[1;33m,\u001b[0m \u001b[0mkind\u001b[0m\u001b[1;33m=\u001b[0m\u001b[1;34m\"getitem\"\u001b[0m\u001b[1;33m)\u001b[0m\u001b[1;33m\u001b[0m\u001b[1;33m\u001b[0m\u001b[0m\n\u001b[0m\u001b[0;32m   4729\u001b[0m         \u001b[1;32mtry\u001b[0m\u001b[1;33m:\u001b[0m\u001b[1;33m\u001b[0m\u001b[1;33m\u001b[0m\u001b[0m\n\u001b[0;32m   4730\u001b[0m             \u001b[1;32mreturn\u001b[0m \u001b[0mself\u001b[0m\u001b[1;33m.\u001b[0m\u001b[0m_engine\u001b[0m\u001b[1;33m.\u001b[0m\u001b[0mget_value\u001b[0m\u001b[1;33m(\u001b[0m\u001b[0ms\u001b[0m\u001b[1;33m,\u001b[0m \u001b[0mk\u001b[0m\u001b[1;33m,\u001b[0m \u001b[0mtz\u001b[0m\u001b[1;33m=\u001b[0m\u001b[0mgetattr\u001b[0m\u001b[1;33m(\u001b[0m\u001b[0mseries\u001b[0m\u001b[1;33m.\u001b[0m\u001b[0mdtype\u001b[0m\u001b[1;33m,\u001b[0m \u001b[1;34m\"tz\"\u001b[0m\u001b[1;33m,\u001b[0m \u001b[1;32mNone\u001b[0m\u001b[1;33m)\u001b[0m\u001b[1;33m)\u001b[0m\u001b[1;33m\u001b[0m\u001b[1;33m\u001b[0m\u001b[0m\n",
      "\u001b[1;31mKeyboardInterrupt\u001b[0m: "
     ]
    }
   ],
   "source": [
    "for row in tqdm(artworks_df.head().iterrows()):\n",
    "    #Certains auteurs ont un titre en troisième position (exemple : baron). On ne garde que le nom et le prénom.\n",
    "    #author = standardize_string(\"\".join(row[1].author.split(\",\")[:2])).split(\" \")\n",
    "    #title = standardize_string(row[1].title)\n",
    "    \n",
    "    cond = (joconde_df.Auteur.str.contains(row[1].author[0])) & (joconde_df.Titre.apply(lambda text : text in row[1].title))\n",
    "    \n",
    "    print(joconde_df[cond])"
   ]
  },
  {
   "cell_type": "code",
   "execution_count": null,
   "metadata": {},
   "outputs": [],
   "source": [
    "#Problème des oeuvres d'art dont le titre ne match pas exactement..."
   ]
  },
  {
   "cell_type": "code",
   "execution_count": null,
   "metadata": {},
   "outputs": [],
   "source": [
    "def similarity(row):\n",
    "    return (row[\"author\"] in row[\"Auteur\"] or row[\"Auteur\"] in row[\"author\"])# and\\\n",
    "            #(row[\"title\"] in row[\"Titre\"] or row[\"title\"] in row[\"Titre\"])\n",
    "\n",
    "fields = [\"number\",\"author\",\"title\",\"position\",\"Titre\",\"Auteur\",\"ID-notice\"]\n",
    "full_artworks_df = artworks_df.merge(joconde_df, left_on = \"title\", right_on = \"Titre\")[fields]\n",
    "\n",
    "full_artworks_df = full_artworks_df[full_artworks_df.apply(similarity, axis = 1)]"
   ]
  },
  {
   "cell_type": "code",
   "execution_count": null,
   "metadata": {},
   "outputs": [],
   "source": [
    "full_artworks_df[full_artworks_df.author == \"barye antoine louis\"]"
   ]
  },
  {
   "cell_type": "markdown",
   "metadata": {},
   "source": [
    "# Essai avec la base de donnée Joconde en ligne (abandonné)"
   ]
  },
  {
   "cell_type": "code",
   "execution_count": 6,
   "metadata": {},
   "outputs": [
    {
     "name": "stdout",
     "output_type": "stream",
     "text": [
      "<a class=\"jsx-3693354677 logo\" href=\"/\"><img alt=\"Logo\" class=\"jsx-3693354677 md\" src=\"/static/logo.png\"/><h1 class=\"jsx-3693354677\">Ministère de la Culture</h1></a>\n",
      "<a class=\"jsx-3693354677 btn btn-outline-danger d-none d-sm-block\" href=\"https://fier2.typeform.com/to/Qyz3xv\" rel=\"noopener\" target=\"_blank\">Votre avis est utile</a>\n",
      "<a class=\"active nav-link\">LISTE</a>\n",
      "<a class=\"nav-link\">CARTE</a>\n",
      "<a class=\"nav-link\">MOSAIQUE</a>\n",
      "<a class=\"jsx-3693354677\" href=\"https://pop-general.s3.eu-west-3.amazonaws.com/POP_En_savoir_plus.pdf\" rel=\"noopener\" target=\"_blank\">À propos</a>\n",
      "<a class=\"jsx-3693354677\" href=\"/opendata\">Télécharger les bases</a>\n",
      "<a class=\"jsx-3693354677\" href=\"mailto:pop@culture.gouv.fr\" rel=\"noopener\" target=\"_blank\">Nous contacter</a>\n",
      "<a class=\"jsx-3693354677\" href=\"/tracking\">Suivi d'audience et vie privée</a>\n"
     ]
    }
   ],
   "source": [
    "r = requests.get(\"https://www.pop.culture.gouv.fr/search/list?base=%5B%22Collections%20des%20mus%C3%A9es%20de%20France%20%28Joconde%29%22%5D&mainSearch=Soleil%20couchant%20sur%20un%20marais%20jul%C3%A9s%20dupr%C3%A9\")\n",
    "\n",
    "soup = BeautifulSoup(r.text, \"html.parser\")\n",
    "\n",
    "#print(soup)\n",
    "\n",
    "for item in soup.find_all(\"a\"):\n",
    "    print(item)"
   ]
  },
  {
   "cell_type": "code",
   "execution_count": 7,
   "metadata": {},
   "outputs": [
    {
     "name": "stdout",
     "output_type": "stream",
     "text": [
      "<!DOCTYPE html><html lang=\"fr\"><head><meta charSet=\"utf-8\"/><meta name=\"viewport\" content=\"width=device-width, initial-scale=1, shrink-to-fit=no\"/><meta name=\"viewport\" content=\"width=device-width, initial-scale=1.0, maximum-scale=1.0, user-scalable=no\"/><meta name=\"google-site-verification\" content=\"AwpDhFkuFQsZzA8EKSQ6nI4OYbCkAvHKKFf4dYVdytU\"/><link rel=\"stylesheet\" href=\"https://cdnjs.cloudflare.com/ajax/libs/twitter-bootstrap/4.2.1/css/bootstrap.min.css\"/><link rel=\"stylesheet\" type=\"text/css\" charSet=\"UTF-8\" href=\"https://cdnjs.cloudflare.com/ajax/libs/slick-carousel/1.6.0/slick.min.css\"/><link rel=\"stylesheet\" type=\"text/css\" href=\"https://cdnjs.cloudflare.com/ajax/libs/slick-carousel/1.6.0/slick-theme.min.css\"/><link rel=\"manifest\" href=\"/manifest.json\"/><link rel=\"shortcut icon\" href=\"/favicon.ico\"/><link rel=\"stylesheet\" type=\"text/css\" href=\"/static/nprogress.css\"/><script src=\"/static/piwik.js\"></script><meta name=\"viewport\" content=\"width=device-width,minimum-scale=1,initial-scale=1\" class=\"next-head\"/><meta charSet=\"utf-8\" class=\"next-head\"/><title class=\"jsx-2261955320 next-head\">Recherche - POP</title><meta name=\"description\" content=\"Rechercher des œuvres, des monuments, ou tout autre bien culturel dans la base de donnée du ministère de la culture française.\" class=\"jsx-2261955320 next-head\"/><link rel=\"preload\" href=\"/_next/static/1HvUBmkNLQxBpVNTpusyz/pages/search.js\" as=\"script\"/><link rel=\"preload\" href=\"/_next/static/1HvUBmkNLQxBpVNTpusyz/pages/_app.js\" as=\"script\"/><link rel=\"preload\" href=\"/_next/static/runtime/webpack-a79426b5e11f0ba5879d.js\" as=\"script\"/><link rel=\"preload\" href=\"/_next/static/chunks/commons.fdb7f2c54d3928c69faa.js\" as=\"script\"/><link rel=\"preload\" href=\"/_next/static/runtime/main-da8cc4ce5dccbfc73327.js\" as=\"script\"/><style id=\"__jsx-2066279404\">.permalink.jsx-2066279404{position:absolute;right:30px;margin-top:-2px;}.modal-body-container.jsx-2066279404{height:40px;}</style><style id=\"__jsx-1022168640\">.search-filters-sidebar{background-color:#fff;padding:15px;border-radius:5px;box-shadow:0 2px 2px 0 rgba(215,215,215,0.5);}.search-filters-sidebar h4,.react-es-active-filters h4{color:#19414c;font-weight:700;font-size:20px;margin-bottom:15px;text-align:center;}.react-es-active-filters ul{margin-block-start:0;padding-inline-start:0;margin-block-end:1em;}.react-es-active-filters li{color:#19414c;font-weight:400;font-size:14px;width:100%;margin-bottom:5px;list-style:none;-webkit-box-pack:justify;-webkit-justify-content:space-between;-ms-flex-pack:justify;justify-content:space-between;background-color:transparent;position:relative;box-shadow:1px 2px 2px 0 rgba(197,197,197,0.5);border:1px solid #d7d3d3;border-radius:5px;cursor:pointer;}.react-es-active-filters li>span{max-width:260px;white-space:nowrap;text-overflow:ellipsis;overflow-wrap:break-word;margin-right:26px;padding:5px;overflow:hidden;display:block;}.react-es-active-filters li>span:hover{-webkit-text-decoration:line-through;text-decoration:line-through;}.react-es-active-filters li>button{display:-webkit-box;display:-webkit-flex;display:-ms-flexbox;display:flex;height:100%;top:0px;right:8px;position:absolute;-webkit-align-items:center;-webkit-box-align:center;-ms-flex-align:center;align-items:center;border:none;background:transparent;cursor:pointer;}.search-sidebar{-webkit-flex:0 0 25%;-ms-flex:0 0 25%;flex:0 0 25%;max-width:25%;position:relative;width:100%;min-height:1px;padding-right:15px;padding-left:15px;}</style><style id=\"__jsx-2130718730\">.list-view{padding-top:25px;width:100%;}</style><style id=\"__jsx-2046373290\">.search .nav-pills{box-shadow:0 2px 2px 0 rgba(215,215,215,0.5);position:absolute;right:15px;}.search .nav-pills .nav-link{background-color:#fff;color:#777;border-radius:0;cursor:pointer;font-weight:400;font-size:20px;height:42px;padding-top:7px;}.search .nav-pills .nav-item{-webkit-box-flex:1;-webkit-flex-grow:1;-ms-flex-positive:1;flex-grow:1;text-align:center;}.search .nav-pills .nav-item .active{background-color:#377d87;color:#fff;}.search .nav-pills .nav-item:first-child .nav-link{border-radius:0.25rem;border-top-right-radius:0;border-bottom-right-radius:0;}.search .nav-pills .nav-item:last-child .nav-link{border-radius:0.25rem;border-top-left-radius:0;border-bottom-left-radius:0;}.search .nav-pills .nav-link.active:hover{color:#fff;}</style><style id=\"__jsx-2261955320\">.search{display:-webkit-box;display:-webkit-flex;display:-ms-flexbox;display:flex;height:100%;min-height:85vh;padding:20px 0;margin-bottom:60px;}.search .title{text-align:center;font-weight:700;font-size:26px;color:#19414c;margin-bottom:20px;}.search .search-container{background-color:#fff;padding:15px;border-radius:5px;box-shadow:0 2px 2px 0 rgba(215,215,215,0.5);}.search .view{padding-top:25px;}.search .search-container.search-container-simple{display:-webkit-box;display:-webkit-flex;display:-ms-flexbox;display:flex;-webkit-box-pack:justify;-webkit-justify-content:space-between;-ms-flex-pack:justify;justify-content:space-between;}.search .search-results{-webkit-flex:0 0 75%;-ms-flex:0 0 75%;flex:0 0 75%;max-width:75%;position:relative;width:100%;min-height:1px;padding-right:15px;padding-left:15px;}.search .search-sidebar .close_mobile_menu,.search .filter_mobile_menu{display:none;}.search .search-icon{display:none;}.search .react-switch{position:absolute;right:70px;}.search .react-switch>span{display:inline-block;position:relative;top:-8px;margin-left:7px;}.search .search-map{padding-top:50px !important;}.search .result-view{width:100%;padding-top:10px;}.search .search-row{-webkit-box-pack:center;-webkit-justify-content:center;-ms-flex-pack:center;justify-content:center;}@media screen and (max-width:767px){.search .search-sidebar{position:fixed;left:0;top:0;height:100%;background:#fff;width:100%;z-index:1000;-webkit-transform:translateX(-100%);-ms-transform:translateX(-100%);transform:translateX(-100%);overflow-y:auto;-webkit-transition:all 0.4s;transition:all 0.4s;-webkit-flex:0 0 100%;-ms-flex:0 0 100%;flex:0 0 100%;max-width:100%;}.search .filter_mobile_menu{display:-webkit-box;display:-webkit-flex;display:-ms-flexbox;display:flex;-webkit-box-pack:center;-webkit-justify-content:center;-ms-flex-pack:center;justify-content:center;-webkit-align-items:center;-webkit-box-align:center;-ms-flex-align:center;align-items:center;}.search .filter_mobile_menu img{width:20px;margin:5px;}.search .search-sidebar .close_mobile_menu{visibility:visible;display:-webkit-box;display:-webkit-flex;display:-ms-flexbox;display:flex;-webkit-box-pack:end;-webkit-justify-content:flex-end;-ms-flex-pack:end;justify-content:flex-end;font-weight:bold;font-size:25px;margin-bottom:30px;}.search #mainSearch-downshift-input{height:40px;padding-left:30px;}.search .mobile_open{-webkit-transform:translateX(0);-ms-transform:translateX(0);transform:translateX(0);}.react-es-searchbox input::-webkit-input-placeholder{font-size:14px;}.react-es-searchbox input::-moz-placeholder{font-size:14px;}.react-es-searchbox input:-ms-input-placeholder{font-size:14px;}.react-es-searchbox input::placeholder{font-size:14px;}.search .search-results{-webkit-flex:0 0 100%;-ms-flex:0 0 100%;flex:0 0 100%;max-width:100%;}.search .react-switch{display:none;}}.collapsable-facet{background-color:#f8f8f8;border-radius:5px;box-shadow:1px 2px 2px 0 rgba(197,197,197,0.5);margin-bottom:20px;padding:10px;font-size:14px;font-weight:normal;color:black;cursor:pointer;}.collapsable-facet-title{font-weight:700;font-size:16px;}.collapsable-facet-title>button,ul.react-es-pagination>li>button{border:none;background:transparent;outline:none;font-size:16px;font-weight:bold;}.collapsable-facet-title>button:focus{outline:none;}ul.react-es-pagination>li.react-es-pagination-active-page{background:#0062cc;}ul.react-es-pagination>li.react-es-pagination-active-page>button{color:white;}.collapsable-facet-title>button{float:right;color:#8999ae;-webkit-transform:scale(1.5,1);-ms-transform:scale(1.5,1);transform:scale(1.5,1);}.react-es-facet{border-top:1px solid rgb(203,203,203);margin-top:10px;}.react-es-facet>input[type=\"text\"]{margin-top:10px;padding:5px;height:30px;margin-bottom:5px;border:1px solid #d7d3d3;width:100%;border-radius:5px;}.react-es-facet>label{display:block;margin-bottom:5px;}.react-es-facet>label>input[type=\"checkbox\"]{margin-right:5px;}.react-es-facet>button{border:none;background:transparent;text-align:center;width:100%;}ul.react-es-pagination>li{background-color:#fafafa;margin:5px 7px 5px 0;padding:5px 7px;border:1px solid #ddd;border-radius:2px;box-shadow:1px 2px 2px 0 rgba(197,197,197,0.5);}ul.react-es-pagination{list-style:none;padding:0;}ul.react-es-pagination{margin-top:15px;}ul.react-es-pagination>li{display:inline;}.react-es-searchbox input{border:0;border-radius:5px;box-shadow:0 2px 2px 0 rgba(215,215,215,0.5);background-size:22px;width:100%;padding:7px;color:#19414c;background-image:url(/static/search.png);background-repeat:no-repeat;background-position:1% center;padding-left:40px;background-color:#fafafa;color:#19414c;}.react-es-searchbox{width:100%;margin-right:20px;}</style><style id=\"__jsx-3693354677\">.header.jsx-3693354677{box-shadow:0 2px 6px 0 rgb(189,189,189);position:relative;}.header.jsx-3693354677 .NavContainer{display:-webkit-box;display:-webkit-flex;display:-ms-flexbox;display:flex;-webkit-align-items:center;-webkit-box-align:center;-ms-flex-align:center;align-items:center;-webkit-box-pack:justify;-webkit-justify-content:space-between;-ms-flex-pack:justify;justify-content:space-between;background-color:white;width:100%;max-width:100% !important;padding:5px 15px;}.header.jsx-3693354677 .right-container.jsx-3693354677{display:-webkit-box;display:-webkit-flex;display:-ms-flexbox;display:flex;-webkit-align-items:center;-webkit-box-align:center;-ms-flex-align:center;align-items:center;}.header.jsx-3693354677 .right-container.jsx-3693354677 .btn.jsx-3693354677{color:#c43a2f;margin-right:25px;}.header.jsx-3693354677 .right-container.jsx-3693354677 .btn.jsx-3693354677:hover{background-color:#c43a2f;color:#fff;}#beta.jsx-3693354677{position:absolute;width:120px;height:110px;right:0;top:0;display:-webkit-box;display:-webkit-flex;display:-ms-flexbox;display:flex;overflow:hidden;}#beta.jsx-3693354677>div.jsx-3693354677{position:absolute;right:-31.75%;top:10%;width:100%;background-color:#c43a2f;display:-webkit-box;display:-webkit-flex;display:-ms-flexbox;display:flex;-webkit-align-items:center;-webkit-box-align:center;-ms-flex-align:center;align-items:center;-webkit-box-pack:center;-webkit-justify-content:center;-ms-flex-pack:center;justify-content:center;-webkit-transform:rotate(45deg);-ms-transform:rotate(45deg);transform:rotate(45deg);}#beta.jsx-3693354677>div.jsx-3693354677>span.jsx-3693354677{display:inline-block;color:white;text-align:center;font-size:0.9em;font-weight:700;padding-top:3px;padding-bottom:3px;}.logo.jsx-3693354677{display:-webkit-box;display:-webkit-flex;display:-ms-flexbox;display:flex;-webkit-align-items:center;-webkit-box-align:center;-ms-flex-align:center;align-items:center;}.logo.jsx-3693354677:hover,.logo.jsx-3693354677:visited,.logo.jsx-3693354677:focus,.logo.jsx-3693354677:active{-webkit-text-decoration:none;text-decoration:none;}.logo.jsx-3693354677 img.jsx-3693354677{width:170px;object-fit:contain;}.logo.jsx-3693354677 h1.jsx-3693354677{font-size:28px;font-weight:400;font-family:\"Nexa\",sans-serif;color:#777;margin:0;}@media screen and (max-width:767px){.logo.jsx-3693354677 img.jsx-3693354677{height:110px;width:120px;}.logo.jsx-3693354677 h1.jsx-3693354677{font-size:20px;}}.company-title.jsx-3693354677{margin-right:30px;}.company-title.jsx-3693354677 span.jsx-3693354677{display:block;font-size:22px;line-height:1;color:#003f48;}.company-title.jsx-3693354677 span.jsx-3693354677:first-letter{font-weight:700;}@media screen and (max-width:767px){.company-title.jsx-3693354677 span.jsx-3693354677{font-size:16px;}.company-title.jsx-3693354677{margin-right:15px;min-width:82px;}}.footer.jsx-3693354677{width:100%;line-height:60px;background-color:#f5f5f5;display:-webkit-box;display:-webkit-flex;display:-ms-flexbox;display:flex;-webkit-box-pack:flex;-webkit-justify-content:flex;-ms-flex-pack:flex;justify-content:flex;box-shadow:0 -2px 6px 0 rgba(189,189,189,0.2);}.footer.jsx-3693354677 a.jsx-3693354677:hover{-webkit-text-decoration:underline;text-decoration:underline;}.footer.jsx-3693354677 a.jsx-3693354677{-webkit-text-decoration:none;text-decoration:none;padding-left:20px;color:#003f48;font-weight:300;font-size:14px;}#betagouv.jsx-3693354677{background-color:white;height:32px;border-radius:5px;}@media screen and (max-width:590px){.footer.jsx-3693354677 a.jsx-3693354677,.footer.jsx-3693354677 a.jsx-3693354677:hover{line-height:20px;margin-top:10px;}}@media screen and (min-width:589px){.footer.jsx-3693354677{position:absolute;bottom:0;height:60px;}}@media print{.footer.jsx-3693354677,.header.jsx-3693354677{display:none;}.row.jsx-3693354677,.notice.jsx-3693354677{display:block !important;}}</style><style id=\"__jsx-971845908\">@font-face{font-family:\"Open Sans\";font-style:normal;font-weight:300;src:local(\"Open:Sans Light\"),local(\"OpenSans-Light\"), url(\"/static/fonts/open-sans-v15-latin-300.woff2\") format(\"woff2\"), url(\"/static/fonts/open-sans-v15-latin-300.woff\") format(\"woff\");}@font-face{font-family:\"Open Sans\";font-style:normal;font-weight:400;src:local(\"Open:Sans Regular\"),local(\"OpenSans-Regular\"), url(\"/static/fonts/open-sans-v15-latin-regular.woff2\") format(\"woff2\"), url(\"/static/fonts/open-sans-v15-latin-regular.woff\") format(\"woff\");}@font-face{font-family:\"Open Sans\";font-style:normal;font-weight:600;src:local(\"Open:Sans SemiBold\"),local(\"OpenSans-SemiBold\"), url(\"/static/fonts/open-sans-v15-latin-600.woff2\") format(\"woff2\"), url(\"/static/fonts/open-sans-v15-latin-600.woff\") format(\"woff\");}@font-face{font-family:\"Open Sans\";font-style:normal;font-weight:700;src:local(\"Open:Sans Bold\"),local(\"OpenSans-Bold\"), url(\"/static/fonts/open-sans-v15-latin-700.woff2\") format(\"woff2\"), url(\"/static/fonts/open-sans-v15-latin-700.woff\") format(\"woff\");}@font-face{font-family:\"Nexa\";font-style:normal;font-weight:400;src:url(\"/static/fonts/nexa.woff2\") format(\"woff2\"), url(\"/static/fonts/nexa.woff\") format(\"woff\");}html{position:relative;min-height:100%;}body{margin:0;overflow:hidden;overflow-y:auto;font-family:\"Open Sans\",sans-serif;color:#2a282b;background-color:#e5edef;}@media screen and (min-width:499px){body{margin-bottom:60px;}}</style></head><body><div id=\"__next\"><div class=\"jsx-3693354677 header\"><div class=\"NavContainer container\"><a class=\"jsx-3693354677 logo\" href=\"/\"><img src=\"/static/logo.png\" alt=\"Logo\" class=\"jsx-3693354677 md\"/><h1 class=\"jsx-3693354677\">Ministère de la Culture</h1></a><div class=\"jsx-3693354677 right-container\"><div class=\"jsx-3693354677\"><a href=\"https://fier2.typeform.com/to/Qyz3xv\" target=\"_blank\" rel=\"noopener\" class=\"jsx-3693354677 btn btn-outline-danger d-none d-sm-block\">Votre avis est utile</a></div><div class=\"jsx-3693354677 company-title\"><span class=\"jsx-3693354677\">Plateforme</span><span class=\"jsx-3693354677\">Ouverte du</span><span class=\"jsx-3693354677\">Patrimoine</span></div><div id=\"beta\" class=\"jsx-3693354677\"><div class=\"jsx-3693354677\"><span class=\"jsx-3693354677\">BETA</span></div></div></div></div></div><div class=\"jsx-2261955320 search\"><div style=\"max-width:1860px\" class=\"container-fluid\"><label class=\"jsx-2261955320 react-switch\"><div style=\"position:relative;display:inline-block;text-align:left;opacity:1;border-radius:14px;-webkit-transition:opacity 0.25s;-moz-transition:opacity 0.25s;transition:opacity 0.25s;touch-action:none;-webkit-tap-highlight-color:rgba(0, 0, 0, 0);-webkit-user-select:none;-moz-user-select:none;-ms-user-select:none;user-select:none\"><div class=\"react-switch-bg\" style=\"height:28px;width:56px;margin:0;position:relative;background:#888888;border-radius:14px;cursor:pointer;-webkit-transition:background 0.25s;-moz-transition:background 0.25s;transition:background 0.25s\"><div style=\"height:28px;width:30px;position:relative;opacity:0;pointer-events:none;-webkit-transition:opacity 0.25s;-moz-transition:opacity 0.25s;transition:opacity 0.25s\"><svg height=\"100%\" width=\"100%\" viewBox=\"-2 -5 17 21\" style=\"position:absolute;top:0\"><path d=\"M11.264 0L5.26 6.004 2.103 2.847 0 4.95l5.26 5.26 8.108-8.107L11.264 0\" fill=\"#fff\" fill-rule=\"evenodd\"></path></svg></div><div style=\"height:28px;width:30px;position:absolute;opacity:1;right:0;top:0;pointer-events:none;-webkit-transition:opacity 0.25s;-moz-transition:opacity 0.25s;transition:opacity 0.25s\"><svg viewBox=\"-2 -5 14 20\" height=\"100%\" width=\"100%\" style=\"position:absolute;top:0\"><path d=\"M9.9 2.12L7.78 0 4.95 2.828 2.12 0 0 2.12l2.83 2.83L0 7.776 2.123 9.9 4.95 7.07 7.78 9.9 9.9 7.776 7.072 4.95 9.9 2.12\" fill=\"#fff\" fill-rule=\"evenodd\"></path></svg></div></div><div class=\"react-switch-handle\" style=\"height:26px;width:26px;background:#ffffff;display:inline-block;cursor:pointer;border-radius:50%;position:absolute;transform:translateX(1px);top:1px;outline:0;border:0;-webkit-transition:background-color 0.25s, transform 0.25s, box-shadow 0.15s;-moz-transition:background-color 0.25s, transform 0.25s, box-shadow 0.15s;transition:background-color 0.25s, transform 0.25s, box-shadow 0.15s\"></div><input type=\"checkbox\" role=\"switch\" style=\"border:0;clip:rect(0 0 0 0);height:1px;margin:-1px;overflow:hidden;padding:0;position:absolute;width:1px\"/></div><span class=\"jsx-2261955320\">Recherche avancée</span></label><div class=\"jsx-2066279404 permalink\"><div class=\"jsx-2066279404 text-center\"><button class=\"jsx-2066279404 btn btn-sm btn-link\"><img src=\"/static/share.svg\" width=\"18\" class=\"jsx-2066279404\"/></button></div></div><h1 class=\"jsx-2261955320 title\">Votre recherche</h1><div></div><div class=\"search-row row\"><div class=\"jsx-2261955320 search-sidebar \"><aside class=\"jsx-1022168640 search-filters-sidebar\"><div class=\"jsx-1022168640 close_mobile_menu\">x</div><div class=\"react-es-active-filters\"><ul class=\"jsx-1022168640\"></ul></div><h4 class=\"jsx-1022168640\">Affiner par</h4><div class=\"collapsable-facet\"><div class=\"collapsable-facet-title\">Auteur<button>⌄</button></div><div></div></div><div class=\"collapsable-facet\"><div class=\"collapsable-facet-title\">Domaine<button>⌄</button></div><div></div></div><div class=\"collapsable-facet\"><div class=\"collapsable-facet-title\">Base<button>⌄</button></div><div class=\"react-es-facet\"><input type=\"text\" value=\"\" placeholder=\"Filtrer…\"/></div></div><div class=\"collapsable-facet\"><div class=\"collapsable-facet-title\">Localisation<button>⌄</button></div><div></div></div><div class=\"collapsable-facet\"><div class=\"collapsable-facet-title\">Période<button>⌄</button></div><div></div></div><div class=\"collapsable-facet\"><div class=\"collapsable-facet-title\">Producteur<button>⌄</button></div><div></div></div><div class=\"collapsable-facet\"><div class=\"collapsable-facet-title\">Type de bien ou d&#x27;édifice<button>⌄</button></div><div></div></div><div class=\"collapsable-facet\"><div class=\"collapsable-facet-title\">Techniques<button>⌄</button></div><div></div></div><div class=\"collapsable-facet\"><div class=\"collapsable-facet-title\">Contient une image<button>⌄</button></div><div></div></div><div class=\"collapsable-facet\"><div class=\"collapsable-facet-title\">Est géolocalisée<button>⌄</button></div><div></div></div><div class=\"collapsable-facet\"><div class=\"collapsable-facet-title\">Objets manquants ou volés<button>⌄</button></div><div></div></div><div style=\"display:none\" class=\"jsx-1022168640\"><div class=\"collapsable-facet\"><div class=\"collapsable-facet-title\">import<button>⌄</button></div><div></div></div><div class=\"collapsable-facet\"><div class=\"collapsable-facet-title\">museo<button>⌄</button></div><div></div></div><div class=\"collapsable-facet\"><div class=\"collapsable-facet-title\">ref<button>⌄</button></div><div></div></div><div class=\"collapsable-facet\"><div class=\"collapsable-facet-title\">expo<button>⌄</button></div><div></div></div><div class=\"collapsable-facet\"><div class=\"collapsable-facet-title\">deno<button>⌄</button></div><div></div></div><div class=\"collapsable-facet\"><div class=\"collapsable-facet-title\">serie<button>⌄</button></div><div></div></div><div class=\"collapsable-facet\"><div class=\"collapsable-facet-title\">repr<button>⌄</button></div><div></div></div><div class=\"collapsable-facet\"><div class=\"collapsable-facet-title\">util<button>⌄</button></div><div></div></div></div></aside></div><div class=\"jsx-2261955320 search-results\"><div class=\"jsx-2261955320 search-container search-container-simple\"><div class=\"react-es-searchbox\"><input type=\"text\" value=\"Soleil couchant sur un marais julés dupré\" placeholder=\"Saisissez un titre, une dénomination ou une localisation\"/></div><div class=\"filter_mobile_menu\"><div class=\"react-es-active-filters\"><div style=\"display:flex;align-items:center\"><img src=\"/static/filter.png\"/><span class=\"badge badge-secondary\">0</span></div></div></div></div><div class=\"jsx-2046373290 result-view\"><ul class=\"nav nav-pills\"><li class=\"nav-item\"><a class=\"active  nav-link\">LISTE</a></li><li class=\"nav-item\"><a class=\" nav-link\">CARTE</a></li><li class=\"nav-item\"><a class=\" nav-link\">MOSAIQUE</a></li></ul><div class=\"jsx-2130718730 list-view\"><div class=\"react-es-results\"><div class=\"jsx-2130718730\">0<!-- --> résultat<!-- -->s</div></div></div></div></div></div></div></div><div class=\"jsx-3693354677 footer\"><ul class=\"jsx-3693354677 list-inline\"><li class=\"jsx-3693354677 list-inline-item\"><a href=\"https://pop-general.s3.eu-west-3.amazonaws.com/POP_En_savoir_plus.pdf\" target=\"_blank\" rel=\"noopener\" class=\"jsx-3693354677\">À propos</a></li><li class=\"jsx-3693354677 list-inline-item\"><a class=\"jsx-3693354677\" href=\"/opendata\">Télécharger les bases</a></li><li class=\"jsx-3693354677 list-inline-item\"><a href=\"mailto:pop@culture.gouv.fr\" target=\"_blank\" rel=\"noopener\" class=\"jsx-3693354677\">Nous contacter</a></li><li class=\"jsx-3693354677 list-inline-item\"><a class=\"jsx-3693354677\" href=\"/tracking\">Suivi d&#x27;audience et vie privée</a></li></ul></div></div><script id=\"__NEXT_DATA__\" type=\"application/json\">{\"dataManager\":\"[]\",\"props\":{\"pageProps\":{\"asPath\":\"/search/list?base=%5B%22Collections%20des%20mus%C3%A9es%20de%20France%20%28Joconde%29%22%5D\\u0026mainSearch=Soleil%20couchant%20sur%20un%20marais%20jul%C3%A9s%20dupr%C3%A9\",\"queryString\":\"base=%5B%22Collections%20des%20mus%C3%A9es%20de%20France%20%28Joconde%29%22%5D\\u0026mainSearch=Soleil%20couchant%20sur%20un%20marais%20jul%C3%A9s%20dupr%C3%A9\",\"view\":\"list\",\"mode\":\"simple\",\"base\":\"[\\\"Collections des musées de France (Joconde)\\\"]\",\"query\":{\"view\":\"list\",\"mode\":\"simple\",\"base\":\"[\\\"Collections des musées de France (Joconde)\\\"]\",\"mainSearch\":\"Soleil couchant sur un marais julés dupré\"}}},\"page\":\"/search\",\"query\":{\"view\":\"list\",\"mode\":\"simple\",\"base\":\"[\\\"Collections des musées de France (Joconde)\\\"]\",\"mainSearch\":\"Soleil couchant sur un marais julés dupré\"},\"buildId\":\"1HvUBmkNLQxBpVNTpusyz\",\"dynamicBuildId\":false}</script><script async=\"\" id=\"__NEXT_PAGE__/search\" src=\"/_next/static/1HvUBmkNLQxBpVNTpusyz/pages/search.js\"></script><script async=\"\" id=\"__NEXT_PAGE__/_app\" src=\"/_next/static/1HvUBmkNLQxBpVNTpusyz/pages/_app.js\"></script><script src=\"/_next/static/runtime/webpack-a79426b5e11f0ba5879d.js\" async=\"\"></script><script src=\"/_next/static/chunks/commons.fdb7f2c54d3928c69faa.js\" async=\"\"></script><script src=\"/_next/static/runtime/main-da8cc4ce5dccbfc73327.js\" async=\"\"></script></body></html>"
     ]
    },
    {
     "name": "stdout",
     "output_type": "stream",
     "text": [
      "\n"
     ]
    }
   ],
   "source": [
    "print(r.text)"
   ]
  },
  {
   "cell_type": "code",
   "execution_count": 10,
   "metadata": {},
   "outputs": [
    {
     "data": {
      "application/vnd.jupyter.widget-view+json": {
       "model_id": "d75d8510230f4007a76d8aae32ede99e",
       "version_major": 2,
       "version_minor": 0
      },
      "text/plain": [
       "HBox(children=(IntProgress(value=1, bar_style='info', max=1), HTML(value='')))"
      ]
     },
     "metadata": {},
     "output_type": "display_data"
    },
    {
     "name": "stdout",
     "output_type": "stream",
     "text": [
      "[]\n",
      "[]\n",
      "[]\n",
      "[]\n",
      "[]\n",
      "\n"
     ]
    }
   ],
   "source": [
    "base = \"\"\"https://www.pop.culture.gouv.fr/search/list?base=%5B%22Collections%20des%20mus%C3%A9es%20de%20France%20%28Joconde%29%22%5D&mainSearch=%22\"\"\"\n",
    "space = \"\"\"%20\"\"\"\n",
    "\n",
    "for i, row in tqdm(artworks_df.head().iterrows()):\n",
    "    #Certains auteurs ont un titre en troisième position (exemple : baron). On ne garde que le nom et le prénom.\n",
    "    #author = standardize_string(\"\".join(row[1].author.split(\",\")[:2])).split(\" \") On standardise plus haut\n",
    "    #title = standardize_string(row[1].title)\n",
    "    url = base + row.title.replace(\" \",space) + space + row.author[-1] + space + row.author[0]\n",
    "    \n",
    "    r = requests.get(url)\n",
    "    soup = BeautifulSoup(r.text, \"html.parser\")\n",
    "    \n",
    "    print(soup.find_all(\"a\",class_ = \"list-card\"))"
   ]
  },
  {
   "cell_type": "code",
   "execution_count": null,
   "metadata": {},
   "outputs": [],
   "source": [
    "full_artworks_df.apply(lambda row : row[\"Titre\"] == row[\"title\"], axis = 1)"
   ]
  },
  {
   "cell_type": "code",
   "execution_count": null,
   "metadata": {},
   "outputs": [],
   "source": [
    "joconde_df[joconde_df[\"Titre\"] == \"soleil couchant sur un marais\"]"
   ]
  },
  {
   "cell_type": "code",
   "execution_count": null,
   "metadata": {},
   "outputs": [],
   "source": [
    "artworks_df[artworks_df[\"title\"].str.contains(\"soleil couchant sur un marais\")]"
   ]
  },
  {
   "cell_type": "code",
   "execution_count": null,
   "metadata": {},
   "outputs": [],
   "source": [
    "joconde_df[joconde_df[\"Titre\"] == \"lions pres de leur antre\"]"
   ]
  },
  {
   "cell_type": "code",
   "execution_count": null,
   "metadata": {},
   "outputs": [],
   "source": [
    "artworks_df[artworks_df[\"title\"].str.contains(\"lions près de leur antre\")]"
   ]
  },
  {
   "cell_type": "code",
   "execution_count": 17,
   "metadata": {
    "scrolled": true
   },
   "outputs": [],
   "source": [
    "import json\n",
    "#import urllib2\n",
    "\n",
    "url_test = \"https://api.pop.culture.gouv.fr/search/merimee,palissy,memoire,joconde,mnr,museo,enluminures/_msearch\"\n",
    "data_test = { \n",
    "   \"query\":{ \n",
    "      \"bool\":{ \n",
    "         \"must\":[ \n",
    "            { \n",
    "               \"bool\":{ \n",
    "                  \"should\":[ \n",
    "                     { \n",
    "                        \"multi_match\":{ \n",
    "                           \"query\":\"soleil couchant sur un marais\",\n",
    "                           \"operator\":\"and\",\n",
    "                           \"fields\":[ \n",
    "                              \"TICO.strict^10\",\n",
    "                              \"AUTR.strict^10\",\n",
    "                              \"TITRE.strict^9\",\n",
    "                              \"TITR.strict^9\",\n",
    "                              \"LEG.strict^9\",\n",
    "                              \"LOCA.strict^9\",\n",
    "                              \"AUTOEU.strict^9\",\n",
    "                              \"AUTOR.strict^9\",\n",
    "                              \"AUTG.strict^9\",\n",
    "                              \"DENO.strict^8\",\n",
    "                              \"DOMN.strict^8\",\n",
    "                              \"EDIF.strict^8\",\n",
    "                              \"OBJT.strict^8\",\n",
    "                              \"REPR.strict^8\",\n",
    "                              \"AUTP.strict^7\",\n",
    "                              \"SERIE.strict^7\",\n",
    "                              \"PDEN.strict^5\",\n",
    "                              \"PERS.strict^4\",\n",
    "                              \"PAYS.strict^3\",\n",
    "                              \"REG.strict^3\",\n",
    "                              \"COM.strict^3\",\n",
    "                              \"SUJET.strict^3\",\n",
    "                              \"HIST.strict^2\",\n",
    "                              \"TYPE.strict^1\",\n",
    "                              \"DATE.strict^1\",\n",
    "                              \"EPOQ.strict^1\",\n",
    "                              \"SCLE.strict^1\",\n",
    "                              \"SCLD.strict^1\"\n",
    "                           ],\n",
    "                           \"boost\":4\n",
    "                        }\n",
    "                     },\n",
    "                     { \n",
    "                        \"multi_match\":{ \n",
    "                           \"query\":\"soleil couchant sur un marais\",\n",
    "                           \"operator\":\"and\",\n",
    "                           \"fields\":[ \n",
    "                              \"TICO.strict^10\",\n",
    "                              \"AUTR.strict^10\",\n",
    "                              \"TITRE.strict^9\",\n",
    "                              \"TITR.strict^9\",\n",
    "                              \"LEG.strict^9\",\n",
    "                              \"LOCA.strict^9\",\n",
    "                              \"AUTOEU.strict^9\",\n",
    "                              \"AUTOR.strict^9\",\n",
    "                              \"AUTG.strict^9\",\n",
    "                              \"DENO.strict^8\",\n",
    "                              \"DOMN.strict^8\",\n",
    "                              \"EDIF.strict^8\",\n",
    "                              \"OBJT.strict^8\",\n",
    "                              \"REPR.strict^8\",\n",
    "                              \"AUTP.strict^7\",\n",
    "                              \"SERIE.strict^7\",\n",
    "                              \"PDEN.strict^5\",\n",
    "                              \"PERS.strict^4\",\n",
    "                              \"PAYS.strict^3\",\n",
    "                              \"REG.strict^3\",\n",
    "                              \"COM.strict^3\",\n",
    "                              \"SUJET.strict^3\",\n",
    "                              \"HIST.strict^2\",\n",
    "                              \"TYPE.strict^1\",\n",
    "                              \"DATE.strict^1\",\n",
    "                              \"EPOQ.strict^1\",\n",
    "                              \"SCLE.strict^1\",\n",
    "                              \"SCLD.strict^1\"\n",
    "                           ],\n",
    "                           \"type\":\"cross_fields\",\n",
    "                           \"boost\":2\n",
    "                        }\n",
    "                     },\n",
    "                     { \n",
    "                        \"multi_match\":{ \n",
    "                           \"query\":\"soleil couchant sur un marais\",\n",
    "                           \"operator\":\"and\",\n",
    "                           \"fields\":[ \n",
    "                              \"TICO^10\",\n",
    "                              \"AUTR^10\",\n",
    "                              \"TITRE^9\",\n",
    "                              \"TITR^9\",\n",
    "                              \"LEG^9\",\n",
    "                              \"LOCA^9\",\n",
    "                              \"AUTOEU^9\",\n",
    "                              \"AUTOR^9\",\n",
    "                              \"AUTG^9\",\n",
    "                              \"DENO^8\",\n",
    "                              \"DOMN^8\",\n",
    "                              \"EDIF^8\",\n",
    "                              \"OBJT^8\",\n",
    "                              \"REPR^8\",\n",
    "                              \"AUTP^7\",\n",
    "                              \"SERIE^7\",\n",
    "                              \"PDEN^5\",\n",
    "                              \"PERS^4\",\n",
    "                              \"PAYS^3\",\n",
    "                              \"REG^3\",\n",
    "                              \"COM^3\",\n",
    "                              \"SUJET^3\",\n",
    "                              \"HIST^2\",\n",
    "                              \"TYPE^1\",\n",
    "                              \"DATE^1\",\n",
    "                              \"EPOQ^1\",\n",
    "                              \"SCLE^1\",\n",
    "                              \"SCLD^1\"\n",
    "                           ],\n",
    "                           \"type\":\"cross_fields\"\n",
    "                        }\n",
    "                     }\n",
    "                  ]\n",
    "               }\n",
    "            }\n",
    "         ]\n",
    "      }\n",
    "   },\n",
    "   \"size\":25,\n",
    "   \"from\":0\n",
    "}\n",
    "#req = urllib2.Request(url_test)\n",
    "#req.add_header(\"Content-Type\",\"application/json\")\n",
    "string = \"\"\"{\"preference\":\"res\"}\n",
    "{\"query\":{\"bool\":{\"must\":[{\"bool\":{\"should\":[{\"term\":{\"BASE.keyword\":\"Collections des musÃ©es de France (Joconde)\"}}]}},{\"bool\":{\"should\":[{\"multi_match\":{\"query\":\"hamlet et horatio\",\"operator\":\"and\",\"fields\":[\"TICO.strict^10\",\"AUTR.strict^10\",\"TITRE.strict^9\",\"TITR.strict^9\",\"LEG.strict^9\",\"LOCA.strict^9\",\"AUTOEU.strict^9\",\"AUTOR.strict^9\",\"AUTG.strict^9\",\"DENO.strict^8\",\"DOMN.strict^8\",\"EDIF.strict^8\",\"OBJT.strict^8\",\"REPR.strict^8\",\"AUTP.strict^7\",\"SERIE.strict^7\",\"PDEN.strict^5\",\"PERS.strict^4\",\"PAYS.strict^3\",\"REG.strict^3\",\"COM.strict^3\",\"SUJET.strict^3\",\"HIST.strict^2\",\"TYPE.strict^1\",\"DATE.strict^1\",\"EPOQ.strict^1\",\"SCLE.strict^1\",\"SCLD.strict^1\"],\"boost\":4}},{\"multi_match\":{\"query\":\"hamlet et horatio\",\"operator\":\"and\",\"fields\":[\"TICO.strict^10\",\"AUTR.strict^10\",\"TITRE.strict^9\",\"TITR.strict^9\",\"LEG.strict^9\",\"LOCA.strict^9\",\"AUTOEU.strict^9\",\"AUTOR.strict^9\",\"AUTG.strict^9\",\"DENO.strict^8\",\"DOMN.strict^8\",\"EDIF.strict^8\",\"OBJT.strict^8\",\"REPR.strict^8\",\"AUTP.strict^7\",\"SERIE.strict^7\",\"PDEN.strict^5\",\"PERS.strict^4\",\"PAYS.strict^3\",\"REG.strict^3\",\"COM.strict^3\",\"SUJET.strict^3\",\"HIST.strict^2\",\"TYPE.strict^1\",\"DATE.strict^1\",\"EPOQ.strict^1\",\"SCLE.strict^1\",\"SCLD.strict^1\"],\"type\":\"cross_fields\",\"boost\":2}},{\"multi_match\":{\"query\":\"hamlet et horatio\",\"operator\":\"and\",\"fields\":[\"TICO^10\",\"AUTR^10\",\"TITRE^9\",\"TITR^9\",\"LEG^9\",\"LOCA^9\",\"AUTOEU^9\",\"AUTOR^9\",\"AUTG^9\",\"DENO^8\",\"DOMN^8\",\"EDIF^8\",\"OBJT^8\",\"REPR^8\",\"AUTP^7\",\"SERIE^7\",\"PDEN^5\",\"PERS^4\",\"PAYS^3\",\"REG^3\",\"COM^3\",\"SUJET^3\",\"HIST^2\",\"TYPE^1\",\"DATE^1\",\"EPOQ^1\",\"SCLE^1\",\"SCLD^1\"],\"type\":\"cross_fields\"}}]}}]}},\"size\":25,\"from\":0}\n",
    "{\"preference\":\"base\"}\n",
    "{\"query\":{\"bool\":{\"must\":[{\"bool\":{\"should\":[{\"multi_match\":{\"query\":\"hamlet et horatio\",\"operator\":\"and\",\"fields\":[\"TICO.strict^10\",\"AUTR.strict^10\",\"TITRE.strict^9\",\"TITR.strict^9\",\"LEG.strict^9\",\"LOCA.strict^9\",\"AUTOEU.strict^9\",\"AUTOR.strict^9\",\"AUTG.strict^9\",\"DENO.strict^8\",\"DOMN.strict^8\",\"EDIF.strict^8\",\"OBJT.strict^8\",\"REPR.strict^8\",\"AUTP.strict^7\",\"SERIE.strict^7\",\"PDEN.strict^5\",\"PERS.strict^4\",\"PAYS.strict^3\",\"REG.strict^3\",\"COM.strict^3\",\"SUJET.strict^3\",\"HIST.strict^2\",\"TYPE.strict^1\",\"DATE.strict^1\",\"EPOQ.strict^1\",\"SCLE.strict^1\",\"SCLD.strict^1\"],\"boost\":4}},{\"multi_match\":{\"query\":\"hamlet et horatio\",\"operator\":\"and\",\"fields\":[\"TICO.strict^10\",\"AUTR.strict^10\",\"TITRE.strict^9\",\"TITR.strict^9\",\"LEG.strict^9\",\"LOCA.strict^9\",\"AUTOEU.strict^9\",\"AUTOR.strict^9\",\"AUTG.strict^9\",\"DENO.strict^8\",\"DOMN.strict^8\",\"EDIF.strict^8\",\"OBJT.strict^8\",\"REPR.strict^8\",\"AUTP.strict^7\",\"SERIE.strict^7\",\"PDEN.strict^5\",\"PERS.strict^4\",\"PAYS.strict^3\",\"REG.strict^3\",\"COM.strict^3\",\"SUJET.strict^3\",\"HIST.strict^2\",\"TYPE.strict^1\",\"DATE.strict^1\",\"EPOQ.strict^1\",\"SCLE.strict^1\",\"SCLD.strict^1\"],\"type\":\"cross_fields\",\"boost\":2}},{\"multi_match\":{\"query\":\"hamlet et horatio\",\"operator\":\"and\",\"fields\":[\"TICO^10\",\"AUTR^10\",\"TITRE^9\",\"TITR^9\",\"LEG^9\",\"LOCA^9\",\"AUTOEU^9\",\"AUTOR^9\",\"AUTG^9\",\"DENO^8\",\"DOMN^8\",\"EDIF^8\",\"OBJT^8\",\"REPR^8\",\"AUTP^7\",\"SERIE^7\",\"PDEN^5\",\"PERS^4\",\"PAYS^3\",\"REG^3\",\"COM^3\",\"SUJET^3\",\"HIST^2\",\"TYPE^1\",\"DATE^1\",\"EPOQ^1\",\"SCLE^1\",\"SCLD^1\"],\"type\":\"cross_fields\"}}]}}]}},\"size\":0,\"aggs\":{\"BASE.keyword\":{\"terms\":{\"field\":\"BASE.keyword\",\"order\":{\"_count\":\"desc\"},\"size\":10}}}}\n",
    "\"\"\"\n",
    "#response = urllib2.urlopen(rqe, json.dumps(data_test))\n",
    "requests.options(url = url_test, headers = {\"Access-Control-Request-Method\":\"POST\",\"Origin\":\"https://www.pop.culture.gouv.fr\",\"User-agent\":\"Mozilla/5.0 (Windows NT 10.0; Win64; x64) AppleWebKit/537.36 (KHTML, like Gecko) Chrome/78.0.3904.108 Safari/537.36\", \"Access-Control-Request-Headers\":\"content-type\", \"Accept\":\"*/*\"})\n",
    "r = requests.post(url = url_test, data = string, headers = {\"Accept\":\"application/json\",\"User-Agent\":\"Mozilla/5.0 (Windows NT 10.0; Win64; x64) AppleWebKit/537.36 (KHTML, like Gecko) Chrome/78.0.3904.108 Safari/537.36\",\"Content-Type\":\"application/json\"})"
   ]
  },
  {
   "cell_type": "code",
   "execution_count": 18,
   "metadata": {
    "scrolled": false
   },
   "outputs": [
    {
     "data": {
      "text/plain": [
       "'<!DOCTYPE html>\\n<html lang=\"en\">\\n<head>\\n<meta charset=\"utf-8\">\\n<title>Error</title>\\n</head>\\n<body>\\n<pre>SyntaxError: Unexpected token { in JSON at position 21<br> &nbsp; &nbsp;at JSON.parse (&lt;anonymous&gt;)<br> &nbsp; &nbsp;at parse (/var/app/current/node_modules/body-parser/lib/types/json.js:89:19)<br> &nbsp; &nbsp;at /var/app/current/node_modules/body-parser/lib/read.js:121:18<br> &nbsp; &nbsp;at invokeCallback (/var/app/current/node_modules/raw-body/index.js:224:16)<br> &nbsp; &nbsp;at done (/var/app/current/node_modules/raw-body/index.js:213:7)<br> &nbsp; &nbsp;at IncomingMessage.onEnd (/var/app/current/node_modules/raw-body/index.js:273:7)<br> &nbsp; &nbsp;at emitNone (events.js:106:13)<br> &nbsp; &nbsp;at IncomingMessage.emit (events.js:208:7)<br> &nbsp; &nbsp;at endReadableNT (_stream_readable.js:1064:12)<br> &nbsp; &nbsp;at _combinedTickCallback (internal/process/next_tick.js:138:11)<br> &nbsp; &nbsp;at process._tickDomainCallback (internal/process/next_tick.js:218:9)</pre>\\n</body>\\n</html>\\n'"
      ]
     },
     "execution_count": 18,
     "metadata": {},
     "output_type": "execute_result"
    }
   ],
   "source": [
    "r.text"
   ]
  },
  {
   "cell_type": "markdown",
   "metadata": {},
   "source": [
    "# Tests divers"
   ]
  },
  {
   "cell_type": "code",
   "execution_count": null,
   "metadata": {},
   "outputs": [],
   "source": [
    "\" \".join(remove_punctuation(\"Dujardin, Jean-Xavier-David, grand duc\").split(\",\")[:2]).split(\" \")"
   ]
  },
  {
   "cell_type": "code",
   "execution_count": null,
   "metadata": {},
   "outputs": [],
   "source": [
    "remove_punctuation(\"\".join(\"Dujardin, Jean-Xavier-David, grand duc\".split(\",\")[:2])).split(\" \")"
   ]
  },
  {
   "cell_type": "code",
   "execution_count": null,
   "metadata": {},
   "outputs": [],
   "source": [
    "\"Soleil couchant sur un marais\".replace(\" \",\"+\")"
   ]
  },
  {
   "cell_type": "code",
   "execution_count": 29,
   "metadata": {},
   "outputs": [
    {
     "name": "stdout",
     "output_type": "stream",
     "text": [
      "a\n",
      "a\n"
     ]
    }
   ],
   "source": [
    "for match in re.finditer(\"a\",\"a b c d a\"):\n",
    "        print(match.group())"
   ]
  },
  {
   "cell_type": "code",
   "execution_count": 45,
   "metadata": {},
   "outputs": [
    {
     "data": {
      "text/plain": [
       "['[', 'a', ',', 'b', ',', 'c', ']']"
      ]
     },
     "execution_count": 45,
     "metadata": {},
     "output_type": "execute_result"
    }
   ],
   "source": [
    "list(\"[a,b,c]\")"
   ]
  },
  {
   "cell_type": "code",
   "execution_count": 46,
   "metadata": {},
   "outputs": [
    {
     "data": {
      "text/plain": [
       "Unnamed: 0      2254\n",
       "Unnamed: 0.1    2254\n",
       "number          2254\n",
       "author          2254\n",
       "life            2254\n",
       "title           2252\n",
       "position        2254\n",
       "width            488\n",
       "height           490\n",
       "image_url        301\n",
       "wall             973\n",
       "dtype: int64"
      ]
     },
     "execution_count": 46,
     "metadata": {},
     "output_type": "execute_result"
    }
   ],
   "source": [
    "artworks_df.count()"
   ]
  },
  {
   "cell_type": "code",
   "execution_count": 29,
   "metadata": {},
   "outputs": [
    {
     "ename": "ValueError",
     "evalue": "not enough values to unpack (expected 2, got 1)",
     "output_type": "error",
     "traceback": [
      "\u001b[1;31m---------------------------------------------------------------------------\u001b[0m",
      "\u001b[1;31mValueError\u001b[0m                                Traceback (most recent call last)",
      "\u001b[1;32m<ipython-input-29-473b09b798d1>\u001b[0m in \u001b[0;36m<module>\u001b[1;34m\u001b[0m\n\u001b[1;32m----> 1\u001b[1;33m \u001b[0ma\u001b[0m\u001b[1;33m,\u001b[0m \u001b[0mb\u001b[0m \u001b[1;33m=\u001b[0m \u001b[1;34m\"coucou\"\u001b[0m\u001b[1;33m.\u001b[0m\u001b[0msplit\u001b[0m\u001b[1;33m(\u001b[0m\u001b[1;34m\" \"\u001b[0m\u001b[1;33m)\u001b[0m\u001b[1;33m\u001b[0m\u001b[1;33m\u001b[0m\u001b[0m\n\u001b[0m",
      "\u001b[1;31mValueError\u001b[0m: not enough values to unpack (expected 2, got 1)"
     ]
    }
   ],
   "source": [
    "a, b = \"coucou\".split(\" \")"
   ]
  },
  {
   "cell_type": "code",
   "execution_count": 53,
   "metadata": {},
   "outputs": [
    {
     "data": {
      "text/plain": [
       "'a'"
      ]
     },
     "execution_count": 53,
     "metadata": {},
     "output_type": "execute_result"
    }
   ],
   "source": [
    "\"- a\"[2:]"
   ]
  },
  {
   "cell_type": "code",
   "execution_count": 6,
   "metadata": {},
   "outputs": [
    {
     "data": {
      "text/plain": [
       "'!\"#$%&\\'()*+,-./:;<=>?@[\\\\]^_`{|}~'"
      ]
     },
     "execution_count": 6,
     "metadata": {},
     "output_type": "execute_result"
    }
   ],
   "source": [
    "punctuation"
   ]
  },
  {
   "cell_type": "code",
   "execution_count": 18,
   "metadata": {},
   "outputs": [
    {
     "data": {
      "text/plain": [
       "'abcd'"
      ]
     },
     "execution_count": 18,
     "metadata": {},
     "output_type": "execute_result"
    }
   ],
   "source": [
    "\"abcde\"[:-1]"
   ]
  },
  {
   "cell_type": "code",
   "execution_count": 19,
   "metadata": {},
   "outputs": [
    {
     "data": {
      "text/plain": [
       "'abcd'"
      ]
     },
     "execution_count": 19,
     "metadata": {},
     "output_type": "execute_result"
    }
   ],
   "source": [
    "\"ABCD\".lower()"
   ]
  },
  {
   "cell_type": "code",
   "execution_count": 54,
   "metadata": {},
   "outputs": [
    {
     "data": {
      "text/plain": [
       "True"
      ]
     },
     "execution_count": 54,
     "metadata": {},
     "output_type": "execute_result"
    }
   ],
   "source": [
    "\"(\" in \"(89)\""
   ]
  },
  {
   "cell_type": "code",
   "execution_count": 13,
   "metadata": {},
   "outputs": [
    {
     "data": {
      "text/plain": [
       "'aNone'"
      ]
     },
     "execution_count": 13,
     "metadata": {},
     "output_type": "execute_result"
    }
   ],
   "source": [
    "\"a\" + str(None)"
   ]
  },
  {
   "cell_type": "code",
   "execution_count": null,
   "metadata": {},
   "outputs": [],
   "source": []
  }
 ],
 "metadata": {
  "kernelspec": {
   "display_name": "Python 3",
   "language": "python",
   "name": "python3"
  },
  "language_info": {
   "codemirror_mode": {
    "name": "ipython",
    "version": 3
   },
   "file_extension": ".py",
   "mimetype": "text/x-python",
   "name": "python",
   "nbconvert_exporter": "python",
   "pygments_lexer": "ipython3",
   "version": "3.7.1"
  }
 },
 "nbformat": 4,
 "nbformat_minor": 2
}
