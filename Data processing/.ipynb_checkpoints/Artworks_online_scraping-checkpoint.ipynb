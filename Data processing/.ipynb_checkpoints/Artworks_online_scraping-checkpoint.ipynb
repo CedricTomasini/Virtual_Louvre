{
 "cells": [
  {
   "cell_type": "code",
   "execution_count": 1,
   "metadata": {},
   "outputs": [
    {
     "name": "stderr",
     "output_type": "stream",
     "text": [
      "C:\\SysNumNoSpace\\Anaconda3\\lib\\site-packages\\tqdm\\autonotebook.py:17: TqdmExperimentalWarning: Using `tqdm.autonotebook.tqdm` in notebook mode. Use `tqdm.tqdm` instead to force console mode (e.g. in jupyter console)\n",
      "  \" (e.g. in jupyter console)\", TqdmExperimentalWarning)\n"
     ]
    }
   ],
   "source": [
    "from bs4 import BeautifulSoup\n",
    "import requests\n",
    "\n",
    "from tqdm.autonotebook import tqdm\n",
    "import pandas as pd\n",
    "import numpy as np\n",
    "import json\n",
    "\n",
    "from string import punctuation\n",
    "from enum import Enum\n",
    "import re\n",
    "\n",
    "from PIL import Image"
   ]
  },
  {
   "cell_type": "code",
   "execution_count": 2,
   "metadata": {},
   "outputs": [],
   "source": [
    "artworks_df = pd.read_csv(\"data/catalogue_artworks.csv\")"
   ]
  },
  {
   "cell_type": "code",
   "execution_count": 3,
   "metadata": {},
   "outputs": [],
   "source": [
    "def standardize_string(s):\n",
    "    \"\"\" \n",
    "    Put the given string into a standard form to be compatible with the querying \n",
    "  \n",
    "    Parameters: \n",
    "    s : a raw string\n",
    "    \n",
    "    return:\n",
    "    string: standardized string\n",
    "  \n",
    "    \"\"\"\n",
    "    p = punctuation.replace(\"'\",\"\")\n",
    "    \n",
    "    s = str(s)\n",
    "    s = s.lower()\n",
    "    s = s.replace(\"-\",\" \")\n",
    "    s = s.strip(\" \")\n",
    "    s = s.translate({ord(i) : None for i in p})\n",
    "    return s"
   ]
  },
  {
   "cell_type": "code",
   "execution_count": 4,
   "metadata": {},
   "outputs": [],
   "source": [
    "artworks_df.title = artworks_df.title.apply(standardize_string)\n",
    "\n",
    "artworks_df.author = artworks_df.author.apply(lambda a : standardize_string(\"\".join(a.split(\",\")[:2])).split(\" \"))"
   ]
  },
  {
   "cell_type": "markdown",
   "metadata": {},
   "source": [
    "# Query Wikidata"
   ]
  },
  {
   "cell_type": "code",
   "execution_count": 5,
   "metadata": {},
   "outputs": [
    {
     "data": {
      "application/vnd.jupyter.widget-view+json": {
       "model_id": "96035a0d64464d0798cc8c9e91b5c77f",
       "version_major": 2,
       "version_minor": 0
      },
      "text/plain": [
       "HBox(children=(IntProgress(value=1, bar_style='info', max=1), HTML(value='')))"
      ]
     },
     "metadata": {},
     "output_type": "display_data"
    },
    {
     "name": "stdout",
     "output_type": "stream",
     "text": [
      "\n"
     ]
    }
   ],
   "source": [
    "#Find a given property in a wikidata page\n",
    "def find_property(soup,prop):\n",
    "    for division in soup.findAll(\"div\", {\"data-property-id\":prop}):\n",
    "        for k, value in enumerate(division.\\\n",
    "                  findAll(\"div\",{\"class\":\"wikibase-snakview-value wikibase-snakview-variation-valuesnak\"})):\n",
    "            if k == 0:\n",
    "                return value.text\n",
    "                \n",
    "def find_width(soup):\n",
    "    return find_property(soup,\"P2049\")\n",
    "\n",
    "def find_height(soup):\n",
    "    return find_property(soup,\"P2048\")\n",
    "\n",
    "#Find a joconde database ID and query the government french website\n",
    "def find_image_joconde(soup):\n",
    "    joconde_id = find_property(soup,\"P347\")\n",
    "    if joconde_id != None:\n",
    "        url = \"https://www.pop.culture.gouv.fr/notice/joconde/\"+joconde_id\n",
    "\n",
    "        soup_jocond = BeautifulSoup(requests.get(url).text,\"html.parser\")\n",
    "\n",
    "        for image in soup_jocond.findAll(\"img\"):\n",
    "            if image[\"src\"].startswith(\"http\"):\n",
    "                return image[\"src\"]\n",
    "\n",
    "def find_image(soup):\n",
    "    for image in soup.findAll(\"meta\", {\"property\":\"og:image\"}):\n",
    "        return image[\"content\"]\n",
    "    \n",
    "    #If image not in WikiData, tries to find joconde ref.\n",
    "    return find_image_joconde(soup)\n",
    "\n",
    "\n",
    "    \n",
    "for index, row in tqdm(artworks_df.iterrows()):\n",
    "    got_url = False\n",
    "    \n",
    "    url_base = \"https://www.wikidata.org/w/index.php?search=&search=\"\n",
    "    \n",
    "    url = url_base+\"+\"+row.author[0]+\"+\"+row.author[-1]+\"+\"+row.title.replace(\" \",\"+\")\n",
    "    \n",
    "    r1 = requests.get(url)\n",
    "    \n",
    "    soup_search = BeautifulSoup(r1.text, \"html.parser\")\n",
    "    \n",
    "    for i, li in enumerate(soup_search.findAll(\"li\",class_ = \"mw-search-result\")):\n",
    "        if i == 0:\n",
    "            for j, a in enumerate(li.findAll(\"a\")):\n",
    "                if j == 0:\n",
    "                    got_url = True\n",
    "                    \n",
    "                    url_painting = \"https://www.wikidata.org\" + a[\"href\"]\n",
    "                    r2 = requests.get(url_painting)\n",
    "                    \n",
    "                    \n",
    "                    soup_painting = BeautifulSoup(r2.text,\"html.parser\")\n",
    "                    \n",
    "                    artworks_df.loc[index,\"width\"] = find_width(soup_painting)\n",
    "                    \n",
    "                    artworks_df.loc[index,\"height\"] = find_height(soup_painting)\n",
    "                    \n",
    "                    artworks_df.loc[index,\"image_url\"] = find_image(soup_painting)\n",
    "                    \n",
    "\n",
    "                "
   ]
  },
  {
   "cell_type": "code",
   "execution_count": null,
   "metadata": {},
   "outputs": [],
   "source": [
    "print(\"Total number of rows :\",len(artworks_df))\n",
    "print(\"Artwork fully retrieved :\",len(artworks_df.dropna()))\n",
    "print(\"Image retrieved :\",len(artworks_df[\"image_url\"].dropna()))\n",
    "print(\"Dimensions retrieved :\",len(artworks_df[[\"width\",\"height\"]].dropna()))"
   ]
  },
  {
   "cell_type": "code",
   "execution_count": null,
   "metadata": {},
   "outputs": [],
   "source": [
    "artworks_df.sample(5)"
   ]
  },
  {
   "cell_type": "markdown",
   "metadata": {},
   "source": [
    "# Saving"
   ]
  },
  {
   "cell_type": "code",
   "execution_count": null,
   "metadata": {},
   "outputs": [],
   "source": [
    "artworks_df.to_csv(\"data/complete_artworks.csv\")"
   ]
  }
 ],
 "metadata": {
  "kernelspec": {
   "display_name": "Python 3",
   "language": "python",
   "name": "python3"
  },
  "language_info": {
   "codemirror_mode": {
    "name": "ipython",
    "version": 3
   },
   "file_extension": ".py",
   "mimetype": "text/x-python",
   "name": "python",
   "nbconvert_exporter": "python",
   "pygments_lexer": "ipython3",
   "version": "3.7.1"
  }
 },
 "nbformat": 4,
 "nbformat_minor": 2
}
