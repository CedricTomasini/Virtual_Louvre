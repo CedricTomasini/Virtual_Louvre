{
 "cells": [
  {
   "cell_type": "code",
   "execution_count": 4,
   "metadata": {},
   "outputs": [],
   "source": [
    "from barman_gallica_parser.fdh_gallica import Document\n",
    "\n",
    "import urllib.request\n",
    "\n",
    "from bs4 import BeautifulSoup\n",
    "\n",
    "from tqdm.autonotebook import tqdm\n",
    "import pandas as pd"
   ]
  },
  {
   "cell_type": "code",
   "execution_count": 5,
   "metadata": {},
   "outputs": [],
   "source": [
    "louvre_1923 = Document('12148/bpt6k64771241')"
   ]
  },
  {
   "cell_type": "code",
   "execution_count": 4,
   "metadata": {
    "scrolled": true
   },
   "outputs": [
    {
     "data": {
      "application/vnd.jupyter.widget-view+json": {
       "model_id": "2a4ff892400b48708ad245e1797043bc",
       "version_major": 2,
       "version_minor": 0
      },
      "text/plain": [
       "HBox(children=(IntProgress(value=1, bar_style='info', max=1), HTML(value='')))"
      ]
     },
     "metadata": {},
     "output_type": "display_data"
    },
    {
     "name": "stdout",
     "output_type": "stream",
     "text": [
      "\n"
     ]
    }
   ],
   "source": [
    "urls = louvre_1923.alto_urls()\n",
    "\n",
    "filename_alto = \"data/alto_louvre_1923/alto_louvre_1923_{}.xml\"\n",
    "\n",
    "for i, url in enumerate(tqdm(urls)):\n",
    "    source_file = urllib.request.urlopen(url)\n",
    "    source = source_file.read()\n",
    "    \n",
    "    #soup = BeautifulSoup(source)\n",
    "    \n",
    "    source_new_encoding = source.replace(bytes(\"ISO-8859-1\",\"iso-8859-1\"),bytes(\"UTF8\",\"iso-8859-1\"))\n",
    "    \n",
    "    target_file = open(filename_alto.format(i),\"wb+\")\n",
    "    \n",
    "    target_file.write(source_new_encoding)\n",
    "    \n",
    "    target_file.close()\n",
    "    source_file.close()"
   ]
  },
  {
   "cell_type": "code",
   "execution_count": 9,
   "metadata": {},
   "outputs": [
    {
     "data": {
      "application/vnd.jupyter.widget-view+json": {
       "model_id": "d329a5f302854b25bb77e2aa797731c4",
       "version_major": 2,
       "version_minor": 0
      },
      "text/plain": [
       "HBox(children=(IntProgress(value=0, max=199), HTML(value='')))"
      ]
     },
     "metadata": {},
     "output_type": "display_data"
    },
    {
     "name": "stdout",
     "output_type": "stream",
     "text": [
      "\n"
     ]
    }
   ],
   "source": [
    "images_urls = louvre_1923.iiif_urls()\n",
    "\n",
    "filename_iiif = \"data/images_louvre_1923/iiif_louvre_1923_{}.jpg\"\n",
    "\n",
    "for i, url in enumerate(tqdm(images_urls)):\n",
    "    source_file = urllib.request.urlopen(url)\n",
    "    source = source_file.read()\n",
    "    target_file = open(filename_iiif.format(i),\"wb+\")\n",
    "    target_file.write(source)\n",
    "    target_file.close()\n",
    "    source_file.close()"
   ]
  },
  {
   "cell_type": "code",
   "execution_count": null,
   "metadata": {},
   "outputs": [],
   "source": []
  }
 ],
 "metadata": {
  "kernelspec": {
   "display_name": "Python 3",
   "language": "python",
   "name": "python3"
  },
  "language_info": {
   "codemirror_mode": {
    "name": "ipython",
    "version": 3
   },
   "file_extension": ".py",
   "mimetype": "text/x-python",
   "name": "python",
   "nbconvert_exporter": "python",
   "pygments_lexer": "ipython3",
   "version": "3.7.1"
  }
 },
 "nbformat": 4,
 "nbformat_minor": 2
}
