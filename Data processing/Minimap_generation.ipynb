{
 "cells": [
  {
   "cell_type": "code",
   "execution_count": 1,
   "metadata": {},
   "outputs": [],
   "source": [
    "import pandas as pd\n",
    "\n",
    "import PIL.Image\n",
    "\n",
    "from tkinter import *\n",
    "\n",
    "import ast"
   ]
  },
  {
   "cell_type": "code",
   "execution_count": 2,
   "metadata": {},
   "outputs": [],
   "source": [
    "path = \"Louvre_map/Louvre_map_full.png\"\n",
    "\n",
    "im = PIL.Image.open(path)\n",
    "width, height = im.size\n",
    "\n",
    "valid_rooms = []\n",
    "with open(\"Rooms.txt\",\"r\",encoding = \"utf-8\") as f:\n",
    "    for line in f:\n",
    "        valid_rooms.append(line.replace(\"é\",\"e\").split(\"/\")[0].replace(\"\\n\",\"\"))"
   ]
  },
  {
   "cell_type": "code",
   "execution_count": 3,
   "metadata": {},
   "outputs": [
    {
     "data": {
      "text/plain": [
       "1"
      ]
     },
     "execution_count": 3,
     "metadata": {},
     "output_type": "execute_result"
    }
   ],
   "source": [
    "window = Tk()\n",
    "\n",
    "canvas = Canvas(window,width=width,height=height)\n",
    "\n",
    "louvre = PhotoImage(master = canvas,file=path)\n",
    "\n",
    "canvas.create_image(0, 0, image=louvre, anchor=NW)"
   ]
  },
  {
   "cell_type": "code",
   "execution_count": 4,
   "metadata": {},
   "outputs": [],
   "source": [
    "i = 0\n",
    "\n",
    "rooms_coords = []\n",
    "\n",
    "def draw_circle(X,Y):\n",
    "    r = 5\n",
    "    canvas.create_oval(X-r,Y-r,X+r,Y+r,fill = \"red\")\n",
    "\n",
    "def update_text():\n",
    "    global i\n",
    "    v.set(valid_rooms[i])\n",
    "\n",
    "def get_back():\n",
    "    global i\n",
    "    i -= 1\n",
    "    del rooms_coords[-1]\n",
    "    \n",
    "def on_map(event):\n",
    "    global i\n",
    "    draw_circle(event.x, event.y)\n",
    "    rooms_coords.append({\"name\": valid_rooms[i],\"x\":event.x,\"y\":event.y})\n",
    "    i += 1\n",
    "    update_text()\n",
    "    \n",
    "def not_on_map():\n",
    "    global i\n",
    "    rooms_coords.append({\"name\": valid_rooms[i],\"x\":None,\"y\":None})\n",
    "    i += 1\n",
    "    update_text()"
   ]
  },
  {
   "cell_type": "code",
   "execution_count": 5,
   "metadata": {},
   "outputs": [],
   "source": [
    "b1 = Button(window, text=\"Not on map\", command=not_on_map)\n",
    "b1.pack()\n",
    "\n",
    "v = StringVar()\n",
    "t = Label(window, textvariable = v)\n",
    "t.pack()\n",
    "\n",
    "canvas.bind(\"<Button-1>\", on_map)\n",
    "\n",
    "canvas.pack()"
   ]
  },
  {
   "cell_type": "code",
   "execution_count": 6,
   "metadata": {},
   "outputs": [
    {
     "name": "stderr",
     "output_type": "stream",
     "text": [
      "Exception in Tkinter callback\n",
      "Traceback (most recent call last):\n",
      "  File \"C:\\SysNumNoSpace\\Anaconda3\\lib\\tkinter\\__init__.py\", line 1705, in __call__\n",
      "    return self.func(*args)\n",
      "  File \"<ipython-input-4-0ea636738d89>\", line 29, in not_on_map\n",
      "    update_text()\n",
      "  File \"<ipython-input-4-0ea636738d89>\", line 11, in update_text\n",
      "    v.set(valid_rooms[i])\n",
      "IndexError: list index out of range\n"
     ]
    }
   ],
   "source": [
    "update_text()\n",
    "window.mainloop()"
   ]
  },
  {
   "cell_type": "code",
   "execution_count": 7,
   "metadata": {},
   "outputs": [],
   "source": [
    "pd.DataFrame(rooms_coords).to_json(\"data/room_coords.json\", orient=\"records\")"
   ]
  },
  {
   "cell_type": "code",
   "execution_count": null,
   "metadata": {},
   "outputs": [],
   "source": []
  }
 ],
 "metadata": {
  "kernelspec": {
   "display_name": "Python 3",
   "language": "python",
   "name": "python3"
  },
  "language_info": {
   "codemirror_mode": {
    "name": "ipython",
    "version": 3
   },
   "file_extension": ".py",
   "mimetype": "text/x-python",
   "name": "python",
   "nbconvert_exporter": "python",
   "pygments_lexer": "ipython3",
   "version": "3.7.1"
  }
 },
 "nbformat": 4,
 "nbformat_minor": 2
}
