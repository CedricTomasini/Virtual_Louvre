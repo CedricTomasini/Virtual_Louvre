{
 "cells": [
  {
   "cell_type": "code",
   "execution_count": 2,
   "metadata": {},
   "outputs": [],
   "source": [
    "from bs4 import BeautifulSoup\n",
    "\n",
    "from tqdm.autonotebook import tqdm\n",
    "import pandas as pd\n",
    "\n",
    "from PIL import Image, ImageDraw"
   ]
  },
  {
   "cell_type": "code",
   "execution_count": 3,
   "metadata": {},
   "outputs": [],
   "source": [
    "filename_alto = \"data/alto_louvre_1923/alto_louvre_1923_{}.xml\"\n",
    "\n",
    "filename_iiif = \"data/images_louvre_1923/iiif_louvre_1923_{}.jpg\"\n",
    "\n",
    "filename_boxed = \"data/boxed_images_louvre_1923/boxed_louvre_1923_{}.jpg\"\n",
    "\n",
    "map_of_Louvre_index = [6,7]\n",
    "\n",
    "abbreviations_index = 18\n",
    "\n",
    "catalogue_index = range(21,193)"
   ]
  },
  {
   "cell_type": "code",
   "execution_count": 12,
   "metadata": {},
   "outputs": [
    {
     "data": {
      "application/vnd.jupyter.widget-view+json": {
       "model_id": "c0aa6cb0a6bd4d869411fac0a79cbb90",
       "version_major": 2,
       "version_minor": 0
      },
      "text/plain": [
       "HBox(children=(IntProgress(value=0, max=172), HTML(value='')))"
      ]
     },
     "metadata": {},
     "output_type": "display_data"
    },
    {
     "name": "stdout",
     "output_type": "stream",
     "text": [
      "\n"
     ]
    }
   ],
   "source": [
    "def drawer(draw, soup, name, color):\n",
    "\n",
    "    for x in soup.findAll(name):\n",
    "        height = int(x['HEIGHT'])\n",
    "        width = int(x['WIDTH'])\n",
    "        hpos = int(x['HPOS'])\n",
    "        vpos = int(x['VPOS'])\n",
    "\n",
    "        tl = (hpos, vpos)\n",
    "        tr = (hpos + width, vpos)\n",
    "        bl = (hpos, vpos + height)\n",
    "        br = (hpos + width, vpos + height)\n",
    "\n",
    "        draw.line([tl,tr,br,bl,tl], fill = color, width = 2)\n",
    "\n",
    "for i in tqdm(catalogue_index):\n",
    "    \n",
    "    im = Image.open(filename_iiif.format(i))\n",
    "    draw = ImageDraw.Draw(im)\n",
    "    \n",
    "    xml_file = open(filename_alto.format(i))\n",
    "    xml = xml_file.read()\n",
    "    xml_file.close()\n",
    "    \n",
    "    soup = BeautifulSoup(xml,\"lxml-xml\")\n",
    "    \n",
    "    drawer(draw,soup,\"String\",(255,0,0))\n",
    "    drawer(draw,soup,\"TextLine\",(102,255,255))\n",
    "    drawer(draw,soup,\"TextBlock\",(0,255,0))\n",
    "    drawer(draw,soup,\"Illustration\",(0,0,255))\n",
    "    \n",
    "    im.save(filename_boxed.format(i))"
   ]
  },
  {
   "cell_type": "code",
   "execution_count": null,
   "metadata": {},
   "outputs": [],
   "source": []
  }
 ],
 "metadata": {
  "kernelspec": {
   "display_name": "Python 3",
   "language": "python",
   "name": "python3"
  },
  "language_info": {
   "codemirror_mode": {
    "name": "ipython",
    "version": 3
   },
   "file_extension": ".py",
   "mimetype": "text/x-python",
   "name": "python",
   "nbconvert_exporter": "python",
   "pygments_lexer": "ipython3",
   "version": "3.7.1"
  }
 },
 "nbformat": 4,
 "nbformat_minor": 2
}
